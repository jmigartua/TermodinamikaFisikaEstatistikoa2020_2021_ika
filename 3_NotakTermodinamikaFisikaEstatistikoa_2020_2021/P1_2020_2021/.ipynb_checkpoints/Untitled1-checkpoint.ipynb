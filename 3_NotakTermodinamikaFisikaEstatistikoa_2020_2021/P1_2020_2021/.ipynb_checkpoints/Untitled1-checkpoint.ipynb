{
 "cells": [
  {
   "cell_type": "code",
   "execution_count": 1,
   "metadata": {},
   "outputs": [],
   "source": [
    "import numpy as np\n"
   ]
  },
  {
   "cell_type": "code",
   "execution_count": 2,
   "metadata": {},
   "outputs": [],
   "source": [
    "R = 0.082\n",
    "\n",
    "p_0_SO2 = 2.0\n",
    "V_0_SO2 = 10.0\n",
    "T_0_SO2 = 288\n",
    "\n",
    "\n",
    "p_0_NO = 1.0\n",
    "V_0_NO = 15.0\n",
    "T_0_NO = 300.0\n",
    "\n",
    "c_V_SO2 = 3*R\n",
    "c_V_NO = (5.0/2.0)*R\n",
    "\n"
   ]
  },
  {
   "cell_type": "code",
   "execution_count": 3,
   "metadata": {},
   "outputs": [
    {
     "name": "stdout",
     "output_type": "stream",
     "text": [
      "0.8468834688346883\n",
      "0.6097560975609756\n"
     ]
    }
   ],
   "source": [
    "n_0_SO2 = (p_0_SO2*V_0_SO2)/(T_0_SO2*R)\n",
    "\n",
    "n_0_NO = (p_0_NO*V_0_NO)/(T_0_NO*R)\n",
    "\n",
    "print(n_0_SO2)\n",
    "print(n_0_NO)"
   ]
  },
  {
   "cell_type": "code",
   "execution_count": 4,
   "metadata": {},
   "outputs": [
    {
     "name": "stdout",
     "output_type": "stream",
     "text": [
      "292.49999999999994\n"
     ]
    }
   ],
   "source": [
    "T_f = ( (c_V_SO2*n_0_SO2*T_0_SO2 + c_V_NO*n_0_NO*T_0_NO) / (c_V_SO2*n_0_SO2 + c_V_NO*n_0_NO) )\n",
    "\n",
    "print(T_f)"
   ]
  },
  {
   "cell_type": "code",
   "execution_count": 5,
   "metadata": {},
   "outputs": [
    {
     "name": "stdout",
     "output_type": "stream",
     "text": [
      "14.534883720930232\n",
      "10.465116279069768\n",
      "25.0\n"
     ]
    }
   ],
   "source": [
    "V_f_NO = 288 * ( 25.0*1.0*15.00 / (2.0*10.0*300.0 + 1.0*15.0*288.0) )\n",
    "\n",
    "V_f_SO2 = 25.0 - V_f_NO\n",
    "\n",
    "print(V_f_SO2)\n",
    "print(V_f_NO)\n",
    "print(V_f_SO2 + V_f_NO)"
   ]
  },
  {
   "cell_type": "code",
   "execution_count": 6,
   "metadata": {},
   "outputs": [
    {
     "name": "stdout",
     "output_type": "stream",
     "text": [
      "1.3974999999999997\n",
      "1.3974999999999997\n"
     ]
    }
   ],
   "source": [
    "p_f_NO = (n_0_NO*R*T_f) / V_f_NO \n",
    "\n",
    "p_f_SO2 = (n_0_SO2*R*T_f)/ V_f_SO2\n",
    "\n",
    "print(p_f_SO2)\n",
    "print(p_f_NO)\n"
   ]
  },
  {
   "cell_type": "code",
   "execution_count": 7,
   "metadata": {},
   "outputs": [
    {
     "name": "stdout",
     "output_type": "stream",
     "text": [
      "0.029199930601158924\n",
      "-0.02116486269960662\n",
      "0.008035067901552305\n"
     ]
    }
   ],
   "source": [
    "DS_SO2 = c_V_SO2*n_0_SO2*np.log(T_f/T_0_SO2) + n_0_SO2*R*np.log(V_f_SO2/V_0_SO2)\n",
    "\n",
    "DS_NO = c_V_NO*n_0_NO*np.log(T_f/T_0_NO) + n_0_NO*R*np.log(V_f_NO/V_0_NO)\n",
    "\n",
    "print(DS_SO2)\n",
    "print(DS_NO)\n",
    "print(DS_SO2 + DS_NO)"
   ]
  },
  {
   "cell_type": "code",
   "execution_count": 8,
   "metadata": {},
   "outputs": [],
   "source": [
    "faktorea = 4.0/5.0\n",
    "gainditu = 0"
   ]
  },
  {
   "cell_type": "code",
   "execution_count": 9,
   "metadata": {},
   "outputs": [
    {
     "name": "stdout",
     "output_type": "stream",
     "text": [
      "n_50 = 5.75 4.6 BAI 1\n",
      "*********************\n",
      "\n",
      "n_50 = 5.75 4.6 BAI 2\n",
      "*********************\n",
      "\n"
     ]
    }
   ],
   "source": [
    "n_50   = 5.75 \n",
    "n_f_50 = n_50*faktorea\n",
    "\n",
    "if round(n_f_50,2) >= 4.0:\n",
    "    gainditu += 1\n",
    "    print('n_50 =',n_50, round(n_f_50,2), 'BAI', gainditu)\n",
    "else:\n",
    "    print('n_50 =',n_50, round(n_f_50,2), 'EZ', gainditu)\n",
    "print('*********************\\n')\n",
    "\n",
    "n_26  = 5.75 \n",
    "n_f_26 = n_26*faktorea\n",
    "\n",
    "if round(n_f_50,2) >= 4.0:\n",
    "    gainditu += 1\n",
    "    print('n_50 =',n_50, round(n_f_50,2), 'BAI', gainditu)\n",
    "else:\n",
    "    print('n_50 =',n_50, round(n_f_50,2), 'EZ', gainditu)\n",
    "print('*********************\\n')\n",
    "\n"
   ]
  },
  {
   "cell_type": "code",
   "execution_count": 21,
   "metadata": {},
   "outputs": [],
   "source": [
    "def nota_fun(n,nota,gainditu):\n",
    "    faktorea = 2.0/5.0\n",
    "    n_f = nota*faktorea\n",
    "    \n",
    "    if round(n_f,2) >= 2.0:\n",
    "        gainditu += 1\n",
    "        print(n,nota, round(n_f,2), 'BAI', gainditu)\n",
    "    else:\n",
    "        print(n,nota, round(n_f,2), 'EZ', gainditu)\n",
    "    print('*********************\\n')\n",
    "\n",
    "    return gainditu"
   ]
  },
  {
   "cell_type": "code",
   "execution_count": 10,
   "metadata": {},
   "outputs": [],
   "source": [
    "etorritakoak = 0\n",
    "gainditu = 0"
   ]
  },
  {
   "cell_type": "code",
   "execution_count": 11,
   "metadata": {},
   "outputs": [
    {
     "name": "stdout",
     "output_type": "stream",
     "text": [
      "50 5.75 2.3 BAI 1\n",
      "*********************\n",
      "\n",
      "1 1 100.0\n"
     ]
    }
   ],
   "source": [
    "gainditu = notak(50,5.75,gainditu)\n",
    "etorritakoak += 1\n",
    "\n",
    "print(etorritakoak, gainditu, round(gainditu/etorritakoak,2)*100.0)"
   ]
  },
  {
   "cell_type": "code",
   "execution_count": 12,
   "metadata": {},
   "outputs": [
    {
     "name": "stdout",
     "output_type": "stream",
     "text": [
      "26 6.75 2.7 BAI 2\n",
      "*********************\n",
      "\n",
      "2 2 100.0\n"
     ]
    }
   ],
   "source": [
    "gainditu = notak(26,6.75,gainditu)\n",
    "\n",
    "etorritakoak += 1\n",
    "\n",
    "print(etorritakoak, gainditu, round(gainditu/etorritakoak,2)*100.0)"
   ]
  },
  {
   "cell_type": "code",
   "execution_count": 13,
   "metadata": {},
   "outputs": [
    {
     "name": "stdout",
     "output_type": "stream",
     "text": [
      "58 6.85 2.74 BAI 3\n",
      "*********************\n",
      "\n",
      "3 3 100.0\n"
     ]
    }
   ],
   "source": [
    "gainditu = notak(58,6.85,gainditu)\n",
    "etorritakoak += 1\n",
    "\n",
    "print(etorritakoak, gainditu, round(gainditu/etorritakoak,2)*100.0)"
   ]
  },
  {
   "cell_type": "code",
   "execution_count": 14,
   "metadata": {},
   "outputs": [
    {
     "name": "stdout",
     "output_type": "stream",
     "text": [
      "14 1.25 0.5 EZ 3\n",
      "*********************\n",
      "\n",
      "4 3 75.0\n"
     ]
    }
   ],
   "source": [
    "gainditu = notak(14,1.25,gainditu)\n",
    "etorritakoak += 1\n",
    "\n",
    "print(etorritakoak, gainditu, round(gainditu/etorritakoak,2)*100.0)"
   ]
  },
  {
   "cell_type": "code",
   "execution_count": 15,
   "metadata": {},
   "outputs": [
    {
     "name": "stdout",
     "output_type": "stream",
     "text": [
      "20 4.75 1.9 EZ 3\n",
      "*********************\n",
      "\n",
      "5 3 60.0\n"
     ]
    }
   ],
   "source": [
    "gainditu = notak(20,4.75,gainditu)\n",
    "etorritakoak += 1\n",
    "\n",
    "print(etorritakoak, gainditu, round(gainditu/etorritakoak,2)*100.0)"
   ]
  },
  {
   "cell_type": "code",
   "execution_count": 16,
   "metadata": {},
   "outputs": [
    {
     "name": "stdout",
     "output_type": "stream",
     "text": [
      "10 1.0 0.4 EZ 3\n",
      "*********************\n",
      "\n",
      "6 3 50.0\n"
     ]
    }
   ],
   "source": [
    "gainditu = notak(10,1.00,gainditu)\n",
    "etorritakoak += 1\n",
    "\n",
    "print(etorritakoak, gainditu, round(gainditu/etorritakoak,2)*100.0)"
   ]
  },
  {
   "cell_type": "code",
   "execution_count": 17,
   "metadata": {},
   "outputs": [
    {
     "name": "stdout",
     "output_type": "stream",
     "text": [
      "45 3.25 1.3 EZ 3\n",
      "*********************\n",
      "\n",
      "7 3 43.0\n"
     ]
    }
   ],
   "source": [
    "gainditu = notak(45,3.25,gainditu)\n",
    "etorritakoak += 1\n",
    "\n",
    "print(etorritakoak, gainditu, round(gainditu/etorritakoak,2)*100.0)"
   ]
  },
  {
   "cell_type": "code",
   "execution_count": 18,
   "metadata": {},
   "outputs": [
    {
     "name": "stdout",
     "output_type": "stream",
     "text": [
      "52 2.5 1.0 EZ 3\n",
      "*********************\n",
      "\n",
      "8 3 38.0\n"
     ]
    }
   ],
   "source": [
    "gainditu = notak(52,2.50,gainditu)\n",
    "etorritakoak += 1\n",
    "\n",
    "print(etorritakoak, gainditu, round(gainditu/etorritakoak,2)*100.0)"
   ]
  },
  {
   "cell_type": "code",
   "execution_count": 19,
   "metadata": {},
   "outputs": [
    {
     "name": "stdout",
     "output_type": "stream",
     "text": [
      "60 3.0 1.2 EZ 3\n",
      "*********************\n",
      "\n",
      "9 3 33.0\n"
     ]
    }
   ],
   "source": [
    "gainditu = notak(60,3.00,gainditu)\n",
    "etorritakoak += 1\n",
    "\n",
    "print(etorritakoak, gainditu, round(gainditu/etorritakoak,2)*100.0)"
   ]
  },
  {
   "cell_type": "code",
   "execution_count": 20,
   "metadata": {},
   "outputs": [
    {
     "name": "stdout",
     "output_type": "stream",
     "text": [
      "54 2.0 0.8 EZ 3\n",
      "*********************\n",
      "\n",
      "10 3 30.0\n"
     ]
    }
   ],
   "source": [
    "gainditu = notak(54,2.00,gainditu)\n",
    "etorritakoak += 1\n",
    "\n",
    "print(etorritakoak, gainditu, round(gainditu/etorritakoak,2)*100.0)"
   ]
  },
  {
   "cell_type": "code",
   "execution_count": 10,
   "metadata": {},
   "outputs": [],
   "source": [
    "def nota_fun(n,nota,gainditu):\n",
    "    faktorea = 2.0/5.0\n",
    "    n_f = nota*faktorea\n",
    "    \n",
    "    if round(n_f,2) >= 2.0:\n",
    "        gainditu += 1.0\n",
    "        #print(n,nota, round(n_f,2), 'BAI', gainditu)\n",
    "    else:\n",
    "        pass\n",
    "        #print(n,nota, round(n_f,2), 'EZ', gainditu)\n",
    "    \n",
    "    #print('*********************\\n')\n",
    "\n",
    "    return round(n_f,2), gainditu"
   ]
  },
  {
   "cell_type": "code",
   "execution_count": 11,
   "metadata": {},
   "outputs": [],
   "source": [
    "def nota_kal(n,nota):\n",
    "    faktorea = 2.0/5.0\n",
    "    n_f = nota*faktorea\n",
    "    \n",
    "    return n_f"
   ]
  },
  {
   "cell_type": "code",
   "execution_count": 12,
   "metadata": {},
   "outputs": [
    {
     "name": "stdout",
     "output_type": "stream",
     "text": [
      "etorritakoak = 51 \n",
      "gainditu kopurua =  28.0 \n",
      "porzentajea =  54.902 \n",
      "\n",
      "%%%%%%%%%%%%\n",
      "\n",
      "5.0  ->  2.0\n",
      "\n",
      "%%%%%%%%%%%%\n",
      " 5.03 2.01 \n",
      "$$$$$$$$$$$$\n",
      "\n"
     ]
    },
    {
     "data": {
      "text/plain": [
       "[2.3,\n",
       " 2.7,\n",
       " 2.74,\n",
       " 0.5,\n",
       " 1.9,\n",
       " 0.4,\n",
       " 1.3,\n",
       " 1.0,\n",
       " 1.4,\n",
       " 0.8,\n",
       " 0.3,\n",
       " 2.1,\n",
       " 1.0,\n",
       " 2.0,\n",
       " 2.8,\n",
       " 3.9,\n",
       " 1.2,\n",
       " 2.1,\n",
       " 3.3,\n",
       " 1.2,\n",
       " 0.5,\n",
       " 2.3,\n",
       " 2.2,\n",
       " 2.5,\n",
       " 1.7,\n",
       " 2.4,\n",
       " 2.5,\n",
       " 0.6,\n",
       " 1.4,\n",
       " 1.4,\n",
       " 1.5,\n",
       " 2.8,\n",
       " 2.8,\n",
       " 2.0,\n",
       " 1.7,\n",
       " 1.6,\n",
       " 0.8,\n",
       " 3.2,\n",
       " 1.8,\n",
       " 3.3,\n",
       " 3.3,\n",
       " 3.0,\n",
       " 2.9,\n",
       " 3.5,\n",
       " 2.1,\n",
       " 3.2,\n",
       " 2.6,\n",
       " 1.7,\n",
       " 2.4,\n",
       " 2.0]"
      ]
     },
     "execution_count": 12,
     "metadata": {},
     "output_type": "execute_result"
    }
   ],
   "source": [
    "etorritakoak_zenbaki = [50,26,58,14,20,10,45,52,60,54,56,31,36,19,8,18,21,59,1,2,42,\n",
    "                       37,39,34,13,49,57,24,6,44,32,7,51,28,29,55,41,56,\n",
    "                        4,30,\n",
    "                        35,3,16,\n",
    "                        5,40,47,43,11,38,12,23,]\n",
    "notak = [5.75,6.75,6.85,1.25,4.74,1.00,3.25,2.50,3.50,2.00,0.75,5.25,2.50,5.00,7.00,9.75,3.00,5.25,8.25,3.00,\n",
    "         1.25,5.75,5.50,6.25,4.25,6.00,6.25,1.50,3.50,3.50,3.75,7.00,7.00,5.00,4.25,4.00,2.00,\n",
    "         8.00,4.50,\n",
    "         8.25,8.25,7.50,\n",
    "         7.25,8.75,5.25,8.00,6.50,4.25,6.00,5.00,]\n",
    "notak_f = []\n",
    "gainditu = 0.0\n",
    "etorritakoak = len(etorritakoak_zenbaki)\n",
    "\n",
    "for i,j in zip(etorritakoak_zenbaki,notak):\n",
    "    nota_f, gainditu = nota_fun(i,j,gainditu)\n",
    "    notak_f.append(nota_f)\n",
    "    \n",
    "    #print(etorritakoak, gainditu, round(gainditu/etorritakoak,2)*100.0,2*'\\n'+'%%%%%%%%%%%%\\n\\n')\n",
    "    \n",
    "print('etorritakoak =',etorritakoak,'\\ngainditu kopurua = ', gainditu,'\\nporzentajea = ', round((gainditu/etorritakoak)*100.0,3),'\\n\\n%%%%%%%%%%%%\\n')\n",
    "\n",
    "ikasle = etorritakoak_zenbaki[-1]\n",
    "ikasle_nota = notak[-1]\n",
    "print(ikasle_nota,' -> ' ,round(nota_kal(ikasle,ikasle_nota),3))\n",
    "print('\\n%%%%%%%%%%%%\\n',round(np.mean(notak),2), round(np.mean(notak_f),2),'\\n$$$$$$$$$$$$\\n')\n",
    "notak_f"
   ]
  },
  {
   "cell_type": "code",
   "execution_count": null,
   "metadata": {},
   "outputs": [],
   "source": []
  },
  {
   "cell_type": "code",
   "execution_count": null,
   "metadata": {},
   "outputs": [],
   "source": [
    "01,73049129W,FIE,01,gomez,beldarrain,josu,0,0;0;0;0;0;0;0;0;0;0;0;0;0;0;jgomez130@ikasle.ehu.eus,m,1\n",
    "02,79242232X,FIE,02,vivas,merino,jon,0,0;0;0;0;0;0;0;0;0;0;0;0;0;0;jvivas001@ikasle.ehu.eus,m,1\n",
    "03,73043397C,IE,01,alcorta,lopetegui,manex,0,0;0;0;0;0;0;0;0;0;0;0;0;0;0;malcorta014@ikasle.ehu.eus,m,1\n",
    "04,16105298P,IE,02,camiruaga,yanguas,iker,0,0;0;0;0;0;0;0;0;0;0;0;0;0;0;icamiruaga007@ikasle.ehu.eus,m,1\n",
    "05,58012653Y,IE,03,ortiz_de_mendibil,jausoro,asier,0,0;0;0;0;0;0;0;0;0;0;0;0;0;0;aortizdemendib004@ikasle.ehu.eus,m,1\n",
    "06,79125123V,IE,04,sanz,zubizarreta,ibai,0,0;0;0;0;0;0;0;0;0;0;0;0;0;0;isanz048@ikasle.ehu.eus,m,1\n",
    "07,72607243S,IE,05,uranga,granados,iker,0,0;0;0;0;0;0;0;0;0;0;0;0;0;0;iuranga020@ikasle.ehu.eus,m,1\n",
    "08,73217117K,F,01,aizpuru,sulis,jon,0,0;0;0;0;0;0;0;0;0;0;0;0;0;0;jaizpuru012@ikasle.ehu.eus,m,1\n",
    "09,20232393Y,F,02,aketxe,martinez,oier,0,0;0;0;0;0;0;0;0;0;0;0;0;0;0;oaketxe001@ikasle.ehu.eus,m,1\n",
    "10,58030681W,F,03,anda,delika,unai,0,0;0;0;0;0;0;0;0;0;0;0;0;0;0;uanda002@ikasle.ehu.eus,m,1\n",
    "11,73137892P,F,04,ballarena,tellechea,mikel,0,0;0;0;0;0;0;0;0;0;0;0;0;0;0;mballarena001@ikasle.ehu.eus,m,1\n",
    "12,72856706C,F,05,benitez,malvar,alexander_manuel,0,0;0;0;0;0;0;0;0;0;0;0;0;0;0;abenitez011@ikasle.ehu.eus,m,1\n",
    "13,73058273S,F,06,bergara,borrero,asier,0,0;0;0;0;0;0;0;0;0;0;0;0;0;0;avergara017@ikasle.ehu.eus,m,1\n",
    "14,45893980X,F,07,calvo,aurrekoetxea,olatz,0,0;0;0;0;0;0;0;0;0;0;0;0;0;0;ocalvo006@ikasle.ehu.eus,n,1\n",
    "15,49582252W,F,08,casares,michelena,jon,0,0;0;0;0;0;0;0;0;0;0;0;0;0;0;jcasares001@ikasle.ehu.eus,m,1\n",
    "16,79187856Y,F,09,castresana,zorroza,antton,0,0;0;0;0;0;0;0;0;0;0;0;0;0;0;acastresana008@ikasle.ehu.eus,m,1\n",
    "17,45175718S,F,10,costa,valencia,alex,0,0;0;0;0;0;0;0;0;0;0;0;0;0;0;acosta008@ikasle.ehu.eus,m,1\n",
    "18,72542668R,F,11,de_miguel,salaberria,aitor,0,0;0;0;0;0;0;0;0;0;0;0;0;0;0;ademiguel016@ikasle.ehu.eus,m,1\n",
    "19,16098865S,F,12,dorado,cerrato,christian,0,0;0;0;0;0;0;0;0;0;0;0;0;0;0;cdorado001@ikasle.ehu.eus,m,1\n",
    "20,72607102N,F,13,echeverria,ibarbia,aitor,0,0;0;0;0;0;0;0;0;0;0;0;0;0;0;aecheverria042@ikasle.ehu.eus,m,1\n",
    "21,78956052L,F,14,elizaran,mendarte,amaia,0,0;0;0;0;0;0;0;0;0;0;0;0;0;0;aelizaran005@ikasle.ehu.eus,n,1\n",
    "22,44157282L,F,15,epelde,martija,inigo,1,0;0;0;0;0;0;0;0;0;0;0;0;0;0;iepelde004@ikasle.ehu.eus,m,1\n",
    "23,72526987Y,F,16,fernandez,sanchez,iker,0,0;0;0;0;0;0;0;0;0;0;0;0;0;0;ifernandez329@ikasle.ehu.eus,m,1\n",
    "24,72554877C,F,17,fernandez,tena,inaki,0,0;0;0;0;0;0;0;0;0;0;0;0;0;0;ifernandez340@ikasle.ehu.eus,m,1\n",
    "25,79131914T,F,18,folio,gallaga,yerai,1,0;0;0;0;0;0;0;0;0;0;0;0;0;0;yfolio001@ikasle.ehu.eus,m,1\n",
    "26,73058179J,F,19,fuentetaja,leza,martin,0,0;0;0;0;0;0;0;0;0;0;0;0;0;0;mfuentetaja002@ikasle.ehu.eus,m,1\n",
    "27,73034131T,F,20,gajate,mendizabal,joritz,0,0;0;0;0;0;0;0;0;0;0;0;0;0;0;jgajate001@ikasle.ehu.eus,m,1\n",
    "28,16093891D,F,21,garcia_de_iturrospe,lizaso,joane,0,0;0;0;0;0;0;0;0;0;0;0;0;0;0;jgarciadeiturr002@ikasle.ehu.eus,n,1\n",
    "29,72754135Y,F,22,garcia,guerrero,david,0,0;0;0;0;0;0;0;0;0;0;0;0;0;0;dgarcia152@ikasle.ehu.eus,m,1\n",
    "30,58032321D,F,23,garcia,ruiz,leire,0,0;0;0;0;0;0;0;0;0;0;0;0;0;0;lgarcia221@ikasle.ehu.eus,n,1\n",
    "31,79067337F,F,24,goirigolzarri,garcia,ander,0,0;0;0;0;0;0;0;0;0;0;0;0;0;0;agoirigolzarri003@ikasle.ehu.eus,m,1\n",
    "32,72857240W,F,25,gonzalez,conde,ander,0,0;0;0;0;0;0;0;0;0;0;0;0;0;0;agonzalez445@ikasle.ehu.eus,m,1\n",
    "33,16103226Y,F,26,gonzalez,palacios,sue,0,0;0;0;0;0;0;0;0;0;0;0;0;0;0;sgonzalez161@ikasle.ehu.eus,n,1\n",
    "34,72406207E,F,27,guerrero,calzas,iciar,2,0;0;0;0;0;0;0;0;0;0;0;0;0;0;iguerrero011@ikasle.ehu.eus,n,1\n",
    "35,72230455J,F,28,iniguez,garcia,eneko,0,0;0;0;0;0;0;0;0;0;0;0;0;0;0;einiguez001@ikasle.ehu.eus,m,1\n",
    "36,72839779K,F,29,irazusta,mugica,manex,0,0;0;0;0;0;0;0;0;0;0;0;0;0;0;mirazusta006@ikasle.ehu.eus,m,1\n",
    "37,79048902H,F,30,jauregi,aberasturi,urtzi,0,0;0;0;0;0;0;0;0;0;0;0;0;0;0;ujauregi002@ikasle.ehu.eus,m,1\n",
    "38,49575024L,F,31,lacunza,castilla,inaki,0,0;0;0;0;0;0;0;0;0;0;0;0;0;0;ilacunza008@ikasle.ehu.eusm,m,1\n",
    "39,73038874M,F,32,larranaga,jaio,aitor,0,0;0;0;0;0;0;0;0;0;0;0;0;0;0;alarranaga066@ikasle.ehu.eus,m,1\n",
    "40,20895415F,F,33,larrarte,mayoz,maite,0,0;0;0;0;0;0;0;0;0;0;0;0;0;0;mlarrarte001@ikasle.ehu.eus,n,1\n",
    "41,72599873M,F,34,legorburu,newhouse,karla,0,0;0;0;0;0;0;0;0;0;0;0;0;0;0;klegorburu001@ikasle.ehu.eus,n,1\n",
    "42,16098019C,F,35,losada,dapena,inigo,0,0;0;0;0;0;0;0;0;0;0;0;0;0;0;ilosada007@ikasle.ehu.eus,m,1\n",
    "43,72846790V,F,36,mongelos,martinez,asier,0,0;0;0;0;0;0;0;0;0;0;0;0;0;0;amongelos003@ikasle.ehu.eus,m,1\n",
    "44,79172606M,F,37,muniozguren,arostegi,bittor,0,0;0;0;0;0;0;0;0;0;0;0;0;0;0;bmuniozguren002@ikasle.ehu.eus,m,1\n",
    "45,72605942W,F,38,nazabal,munoa,urtzi,0,0;0;0;0;0;0;0;0;0;0;0;0;0;0;unazabal002@ikasle.ehu.eus,m,1\n",
    "46,45950606X,F,39,ortuzar,andres,asier,0,0;0;0;0;0;0;0;0;0;0;0;0;0;0;aortuzar006@ikasle.ehu.eus,m,1\n",
    "47,73508449N,F,40,parra,luri,daniel,0,0;0;0;0;0;0;0;0;0;0;0;0;0;0;dparra007@ikasle.ehu.eus,m,1\n",
    "48,71757668Z,F,41,redondo,prieto,aitor,0,0;0;0;0;0;0;0;0;0;0;0;0;0;0;aredondo024@ikasle.ehu.eus,m,1\n",
    "49,45893212R,F,42,rodriguez,pena,daniel,0,0;0;0;0;0;0;0;0;0;0;0;0;0;0;drodriguez061@ikasle.ehu.eus,m,1\n",
    "50,72605063C,F,43,saez,murguiondo,oihane,0,0;0;0;0;0;0;0;0;0;0;0;0;0;0;osaez004@ikasle.ehu.eus,n,1\n",
    "51,16102559Y,F,44,salan,gutierrez,nahia,0,0;0;0;0;0;0;0;0;0;0;0;0;0;0;nsalan001@ikasle.ehu.eus,n,1\n",
    "52,79176954Y,F,45,salcedo,mestraitua,garazi,0,0;0;0;0;0;0;0;0;0;0;0;0;0;0;gsalcedo002@ikasle.ehu.eus,n,1\n",
    "53,79225571R,F,46,santa_maria_amurrio,fernandez,jon,0,0;0;0;0;0;0;0;0;0;0;0;0;0;0;jsantamariaamu001@ikasle.ehu.eus,m,1\n",
    "54,45822937Z,F,47,soler,juan,jon,0,0;0;0;0;0;0;0;0;0;0;0;0;0;0;jsoler007@ikasle.ehu.eus,m,1\n",
    "55,72516824D,F,48,untzilla,aseginolatza,uxue,0,0;0;0;0;0;0;0;0;0;0;0;0;0;0;uuntzilla001@ikasle.ehu.eus,n,1\n",
    "56,79144173T,F,49,uriarte,amiano,unai,0,0;0;0;0;0;0;0;0;0;0;0;0;0;0;uuriarte007@ikasle.ehu.eus,m,1\n",
    "57,58013620F,F,50,uribeetxebarria,madinabeitia,jokin,0,0;0;0;0;0;0;0;0;0;0;0;0;0;0;juribeetxebarr001@ikasle.ehu.eus,m,1\n",
    "58,72546793D,F,51,varela,etxeberria,ane,0,0;0;0;0;0;0;0;0;0;0;0;0;0;0;avarela019@ikasle.ehu.eus,n,1\n",
    "59,44349836V,F,52,zabala,alcorta,aiora,0,0;0;0;0;0;0;0;0;0;0;0;0;0;0;azabala093@ikasle.ehu.eus,n,1\n",
    "60,72526971J,F,53,zabala,balerdi,mikel,0,0;0;0;0;0;0;0;0;0;0;0;0;0;0;mzabala046@ikasle.ehu.eus,m,1"
   ]
  },
  {
   "cell_type": "code",
   "execution_count": null,
   "metadata": {},
   "outputs": [],
   "source": []
  },
  {
   "cell_type": "code",
   "execution_count": null,
   "metadata": {},
   "outputs": [],
   "source": []
  },
  {
   "cell_type": "code",
   "execution_count": null,
   "metadata": {},
   "outputs": [],
   "source": []
  },
  {
   "cell_type": "code",
   "execution_count": null,
   "metadata": {},
   "outputs": [],
   "source": []
  },
  {
   "cell_type": "code",
   "execution_count": null,
   "metadata": {},
   "outputs": [],
   "source": []
  },
  {
   "cell_type": "code",
   "execution_count": null,
   "metadata": {},
   "outputs": [],
   "source": []
  },
  {
   "cell_type": "code",
   "execution_count": null,
   "metadata": {},
   "outputs": [],
   "source": []
  },
  {
   "cell_type": "code",
   "execution_count": null,
   "metadata": {},
   "outputs": [],
   "source": []
  }
 ],
 "metadata": {
  "kernelspec": {
   "display_name": "Python 3",
   "language": "python",
   "name": "python3"
  },
  "language_info": {
   "codemirror_mode": {
    "name": "ipython",
    "version": 3
   },
   "file_extension": ".py",
   "mimetype": "text/x-python",
   "name": "python",
   "nbconvert_exporter": "python",
   "pygments_lexer": "ipython3",
   "version": "3.8.3"
  }
 },
 "nbformat": 4,
 "nbformat_minor": 4
}
