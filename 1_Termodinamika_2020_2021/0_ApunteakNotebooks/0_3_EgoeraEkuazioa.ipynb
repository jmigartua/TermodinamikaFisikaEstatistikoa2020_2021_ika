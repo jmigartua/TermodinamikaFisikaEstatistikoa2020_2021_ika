{
 "cells": [
  {
   "cell_type": "markdown",
   "metadata": {},
   "source": [
    "# Egoera-ekuazioa"
   ]
  },
  {
   "cell_type": "markdown",
   "metadata": {},
   "source": [
    "## Sistema bakuna, sistema hidrostatikoa, sistema sinplea... "
   ]
  },
  {
   "cell_type": "markdown",
   "metadata": {},
   "source": [
    "Aurreko gaian ikusi den moduan, sistema termodinamikoak deskribatzeko zenbait *aldagai termodinamiko* erabili behar dira, esaterako $(p, V, T, n, H, P, \\tau,\\dots)$, irudian adierazi denez. Aipatu dugu edozein motatako izan daitekeela sistema eta, beraz, haren propietateen araberakoak izango dira aukeratu beharreko aldagaiak.\n",
    "\n",
    "\n",
    "<br>\n",
    "<br>"
   ]
  },
  {
   "cell_type": "markdown",
   "metadata": {},
   "source": [
    "Demagun, deskribatu behar dugun sistemaren kasuan beharrezkoak eta nahikoak diren aldagaiak honako hauek direla: \n",
    "\n",
    "$$ \\left\\{\\,p, T, V, n\\,\\right\\} $$\n",
    "\n",
    "Onar dezagun berebat, horietan $n$ finkatzen dugula; konstantetzat hartuko dugu, beraz, eta horrela bada, formalismotik atera dezakegu, parametrotzat joz:\n",
    "\n",
    "$$ \\left\\{\\,p, T, V\\,;\\, \\color{red}{n}\\,\\right\\} $$ \n",
    "\n",
    "Horrek guztiak bihurtzen du hasierako aldagai termodinamikoen sorta honako hau:\n",
    "\n",
    "$$ \\left\\{\\,\\color{blue}{p}, \\color{blue}{T}, \\color{green}{V}\\,\\right\\} $$\n",
    "\n",
    "Azkenik, onartzen badugu sorta horren bidez deskribatuko dugun sistemarekin lotutako ***askatasun-graduak*** hiru baino ez direla, hots, honako hauek:\n",
    "\n",
    "  - mekanikoa:  \n",
    "  - termikoa:  \n",
    "  - kimikoa: \n",
    "  \n",
    "orduan, *sistema hidrostatikoa* dugula esango dugu.\n",
    "\n",
    "<br>\n",
    "<br>\n",
    "\n",
    "Egiatan, $n$ (mol kopurua finkatu dugunez, *masa* bera, azken finean), *masa konstanteko* ***sistema hidrostatikoa*** dela esango dugu. Hortaz, masa konstanteko sistema hidrostatikoak 2 askatasun-gradu baino ez dauka: `kimikoa` isolatuta baitago.\n",
    "\n",
    "> Masa konstanteko sistema hidrostatikoak 2 askatasun gradu `efektibo` baino ez dauka: \n",
    "  - mekanikoa\n",
    "  - termikoa\n",
    "\n",
    "<br>\n",
    "<br>\n",
    "\n",
    "Ondorengo irudiaren bidez adierazten da, normalean, masa konstanteko sistema hidrostatikoa:\n",
    "\n",
    "<br>\n",
    "<br>"
   ]
  },
  {
   "cell_type": "markdown",
   "metadata": {},
   "source": [
    "> ***Zilindro itxian, alde batean pistoi batek ixten du zilindroa (gainerako hormak finkoak izanik), sartutako gasa da sistema hidrostatikoa***\n",
    "><br>\n",
    "><br>\n",
    ">Kontua da, efektiboki, 2 askatasun-graduko, mekanikoa eta termikoa horiek, sistema dela. Hortaz, masa konstanteko sistema hidrostatikoak 2 modu baino ez dauka bere egoera aldatzeko: mekanikoki, lotura mekanikoa badauka ingurunearekin, eta termikoki, lotura termikoa badauka ingurunearekin.\n",
    "<br>\n",
    "<br>\n",
    "> Beste modu batean adieraz daiteke hori guztia: *sistemaren eta ingurunearen izaera/ezaugarria(k)* dira ***mekanikoa*** ($\\color{blue}{p}, \\color{green}{V}$, aldagai termodinamikoen bidez adierazita) eta ***termikoa*** ($\\color{blue}{T}$, aldagai termodinamikoaren bidez adierazita, oraingoz behintzat).\n",
    "<br>\n",
    "<br>\n",
    "> Beste alde batetik, berezite-horma ere aipatu behar da: sistema hisdrostatikoaren kasuan, zilindroa bera gehi pistoia da bereizte-horma. Ezaugarri mekanikoari (askatasun-gradu mekanikoari) dagokionez, zilindoraren hormak finkoak dira, pistoia bera izan ezik, aske dagoenean higi daitekeena; nahiz eta finkatu dezakegun baita ere. Pistoia bera ere finko dagoenean, efektiboki, gasak ez dauka lotura mekanikorik bere ingurunearekin; hots, askatasun-gradu mekanikoa *izoztuta* dago. Zilindroa eta/edo pistoia, ezaugarri termikoari dagokienez, adiabatikoak zein diatermoak izan daitezke, aldi berean zein bakoitza bere aldetik. Orduan, horietako edozein diatermoa denean badago sistemaren eta ingurunearen arteko lotura termikoa eta, beraz, askatasun-gradu termikoa badauka sistemak. Aldiz, biak aldi berean adiabatikoak badira, sistemak ez du bere ingurunearen egoera termikoa \"ikusiko\": *termikoki isolatuta dagoela sistema esango dugu*\n",
    "\n",
    "<br>\n",
    "<br>"
   ]
  },
  {
   "cell_type": "markdown",
   "metadata": {},
   "source": [
    "## Oreka Termodinamikoa"
   ]
  },
  {
   "cell_type": "markdown",
   "metadata": {},
   "source": [
    "Demagun gure interesa duen sistema termodinamikoa aztertu dela zenbait saiakuntzaren bidez eta lortu dela zehaztea beharrezkoak eta nahikoak diren aldagai termodinamikoak, sistemaren azterketa makroskopikoa egiteko. Aldagai horiek, dakigunez, sistemaren konfigurazio-espazioko koordenatu (termodinamikoak) dira. Konfigurazio-espazio horretan edozein puntuk adierazten du sistemari dagokion oreka-egoera. Oreka-egoeretan koordenatu termodinamikoen balioak finkoak dira. \n",
    "\n",
    "<br>\n",
    "Koordenatu termodinamikoen balioak aldatzen badira, ***egoera-aldaketa*** gertatu dela esaten da. Berdin dio zerk eragiten duen koordenatu termodinamikoen balioen aldaketak, dela berezko aldaketa edo dela sistema eta ingurunearen arteko elkarrekintzaren ondoriozko aldaketa. Izatez, oreka-egoeraren aldaketa gertatu dela esan beharko genuke, baina `aurreztearren`, onartzen dugu egoera ***beti*** dela oreka-egoera, eta adierazpenetik kentzen dugu.\n",
    "<br>\n",
    "\n",
    "> ***Sistema isolatua*** da bere ingurunetik inolako eraginik jasotzen ez duen sistema.\n",
    "\n",
    "Ideiak finkatzeko, pentsa dezagun sistema hidrostatikoaz. Horren eta bere ingurunearen arteko bereizte-hormaren araberakoa izango da horien arteko elkarrekintza. Bereizte-horma diatermoa izanik, ahalbidetzen du bien arteko ukipen termikoa eta, beraz, sistemaren (oreka-)egoera termikoa alda daiteke. Modu berean ere, bereizte-horma higikorra denean, sistema eta ingurunea elkarren arteko ukipen mekanikoan daude eta, hortaz, (oreka-)egoera mekaknikoa alda daiteke. Bi kasuetan, ukipenek ***elkarrekintzak*** ahalbidetzen dituzte. Ukipen mekanikoaren kasuan, indar mekanikoren bat desorekaturik dago eta egoera-aldaketa eragiten du.\n",
    "\n"
   ]
  },
  {
   "cell_type": "markdown",
   "metadata": {},
   "source": [
    "#### Oreka mekanikoa\n",
    "<br>\n",
    "Sistema barnean ez dagoenean indarren desorekarik eta berebat ez dagoenean indarren desorekarik sistema eta ingurunearen artean, sistemaren egoera horri ***oreka mekanikoko egoera*** deritzo, edo ***oreka-egoera mekanikoan*** dagoela sistema esan ohi da. Eta, kontrara, aipatutako baldintzak betetzen ez direnean, sistemaren barnean zein sistema eta ingurunearen artean, orduan, sistemaren egoera (mekanikoa) aldatu egingo da eta egoera-aldaketa horrek iraungo du desoreka, barnekoa zein kanpokoa edo biak, desagertu arte; hots, oreka-egoera mekanikoa berreskuratu arte. Sistemaren edozein zatitan presioa neurtuz gero, balio berbera lortuko da. Hots, presioaren balio bakarrak ezaugarritzen du sistema (osoaren) egoera mekanikoa.  \n",
    "\n",
    "Gainera, sistemaren eta ingurunearen presioak berdinak dira."
   ]
  },
  {
   "cell_type": "markdown",
   "metadata": {},
   "source": [
    "#### Oreka kimikoa\n",
    "<br>\n",
    "Oreka mekanikoan dagoen sisteman ez bada berezko barneko egituraren aldaketa sortzen, dela erreakzio kimikoaren bidezkoa edo dela sistemaren alde batetik beste baterako materia-garraioaren bidezkoa (difusioa, disoluzioa esaterako), sistema dagoen egoerari ***oreka kimikoko egoera*** deritzo, edo ***oreka-egoera kimikoan*** dagoela sistema esaten da. Oreka-egoera kimikoan ez dagoen sistema egoeraz aldatuz doa, azkar edo oso-oso poliki (izaeraren eta baldintza esperimentalen arabera), oreka kimikoa lortuko duen arte."
   ]
  },
  {
   "cell_type": "markdown",
   "metadata": {},
   "source": [
    "#### Oreka termikoa\n",
    "<br>\n",
    "\n",
    "Oreka-egoera mekanikoan eta kimikoan dagoen sistemaren koordenatu termodinamikoen balioak aldatzen ez badira sistema eta ingurunearen arteko bereizte-horma diatermo bihurtutakoan: horrelako egoerari ***oreka termikoko egoera*** deritzo, edo ***oreka-egoera termikoan*** dagoela sistema esaten da. Horrelako egoeran, sistemaren edozein zatiren *tenperatura* berbera da; hots, tenperaturaren balio bakarrez ezaugarritzen da sistema (osoaren) egoera termikoa.  \n",
    "\n",
    "Gainera, sistemaren eta ingurunearen tenperaturak berdinak dira"
   ]
  },
  {
   "cell_type": "markdown",
   "metadata": {},
   "source": [
    "Aurreko hiru oreka motak aldiberean betetzen badira, sistema dagoen egoerari ***oreka termodinamikoko egoera*** deritzo, edo esan ohi da sistema ***oreka termodinamikoan*** dagoela. Jakina, baldintza horietan sistemak edo inguruneak ez du azalduko aldatzeko joerarik.  \n",
    ">***Oreka termodinamikoko*** (oreka-)egoerak deskribatzen dira denborarekiko mendekotasunik ez dituzten koordenatu makroskopikoen, koordenatu termodinamikoak haiek, bidez."
   ]
  },
  {
   "cell_type": "markdown",
   "metadata": {},
   "source": [
    "Aurreko hiru oreka mota horietatik baten bat, edo bi, edo hirurak aldiberan, betetzen ez badira; hots, horiek agertzeko beharrezkoak diren baldintzak bete ezean, orduan, sistema desorekatuta dago (baldintzen betetze ezak desorekak dakar ondorioz): ***desoreka egoeran*** dagoela esan ohi da.  \n",
    "\n",
    "Hortaz, sistema baten barnean desorekaturiko indarren bat badago, edo desorekaturiko indarra sistemaren eta ingurunearen arteko indarren bat bada, orotariko *arazoak* sor daitezke: azalerazioa, turbulentzia, zurrunbiloak, uhinak eta abar. Aipatutako fenomeno (*arazo*) horiek irauten duten bitartean sistema ez dago oreka-egoeretan, *desoreka egoeretatik igarotzen ari da*. Saiatuko bagina, esaterako, sistemaren egoera mekanikoa zehazten, hots, sistemari dagokion tenperatura finkatzen, ezin izango genuke, ez bailego presioaren balio bakarra sistema osoari dagokiona; presioaren balioa ezberdina izango litzateke sistemaren puntu ezeberdinetan. Arazo berbera izango genuke tenperaturari dagokionez: tenperatura-banaketa (aurrekoan presio-banaketa) sorraraziko lukete aipatutako fenomenoek kasu honetan ere bai."
   ]
  },
  {
   "cell_type": "markdown",
   "metadata": {},
   "source": [
    ">Honako hau da ondorioa, beraz: oreka mekanikoa eta oreka termikoa izateko halabeharrezkoak diren baldintzak betetzen ez badira, desoreka egoeretatik igarotzen da sistema eta, horrela, ezin da deskribatu haren osotasunari dagozkion koordenatu termodinamikoak erabiliz. Beste moduan batean adierazita: desoreka egoeretatik igarotzen bada sistema ez dago esleitzea *presioaren* ($\\color{blue}{p}$) edo/eta *tenperaturaren* ($\\color{blue}{T}$) balio bakarra(k).  \n",
    ">\n",
    ">Kontuan izan kasu bereziarekin ari garela, hau da, masa konstanteko sistema hidrostatikoarekin, zeinean, askatasun-gradu kimikoa, definizioz, *izoztuta* dagoen. Masa konstantea izango ez balitz, orduan, askatasun-gradu kimikoa aintzakotzat hartu behar da oreka termodinamikoaren definizioan. Eta azken hori izateko baldintzak beteko ez badira, ez dugu modurik sistemaren konposizio kimikoa, esaterako, zein den esateko: egoera kimikoa, egoera kimiko bakarra sistema osoari dagokiona, ez dago definiturik."
   ]
  },
  {
   "cell_type": "markdown",
   "metadata": {},
   "source": [
    "## Egoera-ekuazioa"
   ]
  },
  {
   "cell_type": "markdown",
   "metadata": {},
   "source": [
    "Demagun esku artean dugun sistema masa konstanteko gasa dela. Gogoratu, laborategian gaude eta saikuntza bat egingo dugu, ondorioren bat lortzeko asmotan. Ez dagu informazio handirik gasari buruz baina gordailu batean sartutakoan, aukera dugu haren presioa, tenperatura eta bolumena era errazean neurtzeko; eta horixe da egingo duguna txandaka.  \n",
    "\n",
    "Gasak betetzen duen gordailuaren bolumena finkatu dugu ezaguna den balioa (errazteko: gasaren bolumena finkatu dugu). Bestetik, ezaguna den eta eskura dugun egoera termiko batekin ukipen termikoan ezartzen dugu gordailua, bereizte-horma diatermanokoa bera. Errazteko: gasaren tenperatura nahi dugun balioan finkatzen dugu. Orduan, esperientziaren arabera, gasaren presioa finkatuta dago: ezin dugu nahi dugun moduan gasaren presioa aldatu.  \n",
    "\n",
    "Hau da, gasaren masa konstantea izanik, behin $\\color{green}{V}$ bolumena eta $\\color{blue}{T}$ tenperatura finkatutakoan, $\\color{blue}{p}$ presioa finkatuta dago, sistemaren izaeraren arabera. (Gasa beste izanda, eta bolumenaren eta tenperaturaren balioak berberak izanik, presioaren balio ezberdina izan daiteke, gasaren propietateen araberakoa da.)"
   ]
  },
  {
   "cell_type": "markdown",
   "metadata": {},
   "source": [
    ">Hiru koordenatu termodinamikoen sortan, $(\\color{green}{V},\\,\\color{blue}{T},\\,\\color{blue}{p})$, bi baino ez dira independente; bi baino ezin ditugu era arbitrarioan aldatu eta guk geuk nahi ditugun balioetan finkatu, beti ere, ***sistemaren oreka termodinamikoko egoerak*** deskribatzeko asmotan.\n",
    ">\n",
    ">Horrek guztiak esan nahi du existitzen dela orekarekin lotutako ekuazio (matematiko) bat koordenatu termodinamikoak lotzen dituena, elkarrekiko dependente bihurtuz. Ekuazio horri ***egoera-ekuazio*** deritzo. Jakina, *egoera* horren barnean (argitzeko: *egoera* hitzaren barnean), *oreka-egoera* dago: oreka termodinamikoko egoeren ekuazioa da.  \n",
    ">\n",
    ">Sistema termodinamiko orori dagokio egoera-ekuazioa."
   ]
  },
  {
   "cell_type": "markdown",
   "metadata": {},
   "source": [
    " Egiatan, gehiago zehaztu behar da. Aurrerago ikusiko dugunez, formalismoa aldatutakoan (Callen liburura pasatutakoan), sistema ororen askatasun-graduek egoera-ekuazio bana dute ***lotuta***. Beraz, egoera-ekuazioak *abizena* dauka: egoera-ekuazioa lotuta dagoen askatasun-graduaren bidez kalifikatzen da. Hots, askatasun-gradu mekanikoarekin lotutako egoera-ekuazioa, izatez, egoera-ekuazio ***mekanikoa*** da. Horrela bada, sistema hidrostatikoak hiru egoera-ekuazio ditu: mekanikoa, termikoa eta kimikoa. Jakina, masa konstanteko sistema hidrostatikoak askatasun-gradu kimikoa *izoztuta* dauka (ezin du erabili haren egoera aldatzeko) eta, ondorioz, nahiz eta egoera-ekuazioa eduki badaukan, gehienetan, formalismotik kanpo uzten dugu. Azkenik, beraz, masa konstante sistema hidrostatikoari 2 egoera-kuazio dagozkio: mekanikoa eta termikoa.\n",
    " \n",
    " <br>"
   ]
  },
  {
   "cell_type": "markdown",
   "metadata": {},
   "source": [
    "Egoera-ekuazioak eduki fisikoa dauka: **sistemaren portaera propioa adierazteko** funtzio matematikoa da. Hau da, esan dudanez, edozein sistema hidrostatikoren, masa konstantekoak haiek, kasuan egoera-ekuazio mekanikoa dugu. Eta horren arabera, tenperatura finkatutakoan (eta gogoratu horrek zer esan nahi duen: ezaguna den egoera termikoan dagoen beste sistema batekin ukipen termikoan dagoela sistema hidrostatikoa), $\\color{green}{V}$ bolumena era askean aldatu dezakegu, baina $\\color{blue}{p}$ presioaren balioa berez finkatuko da. Edo alderantziz. Demagun bi gas ezberdinen kantita fikoak ditugula: masa konstanteko siste hidrostatikoak. Tenparatura berean, $\\color{blue}{T}$ finkatzen ditugu biak eta bien bolumena era librean aldatutakoan, bukaeran, balio berberean finkatzen dugu: hots, bi gasen egoera termikoa berbera da eta bien bolumena ere bai. Jakina, bien kasuan presioa finkatuta izango dugu, horixe da hain zuzen ere egoera-ekuazioak egiten duena. Baina kontuz: bien presio ez du zertan berdina izan! Bakoitzaren egoera-ekuazioak *esango* du zenbat den bakoitzaren presioa egoera termiko horretan eta bolumenaren balio horretan.\n",
    "\n",
    "<br>"
   ]
  },
  {
   "cell_type": "markdown",
   "metadata": {},
   "source": [
    "Bi modutan *ondorioztatu* daiteke egoera-ekuazioa (sistema edozein dela eta haren askatasun-gradua ere bai edozein dela): makroskopikoki, egiten ari garen moduan, hots, laborategira joanda eta saiakuntzak eginez; edo, teorikoki, hots, fisika estatistikoa erabilita (2. lauhilekoan egingo duguna, ikusiko duzunez). Laborategian saikuntzak bi modutan egin daitezke, baina hori apurtxo bat aurrerago argituko dugu.\n",
    "\n",
    "<br>"
   ]
  },
  {
   "cell_type": "markdown",
   "metadata": {},
   "source": [
    "Azter dezagun egoera-ekuazio kontzeptuak daukan beste eduki fisiko bat. Esan dugunez, *oreka termodinamikoko* egoeren ekuzioa da, izatez. Horrek esan nahi du, egoera-ekuazioak lotzen dituen aldagai termodinamikoen balioak finkoak baino ez direnean baino ezin dela kontuan izan, aplikatu, egoera-ekuazioa. Ondorioz, aztertzen ari garen sistema ez-oreka egoeraren batean badago, haren deskribapenean parte hartzen dituzten aldagai termodinamikoen balioak ez daudenez definituta, ez direnez finko, egoera horiek ezin dute *bete* (matematikoki) egoera-ekuazioa (funtzioa). Hots, egoera-ekuazioa ez dago ez-orekako egoeretan definituta, edo, fiskoki: egoera-ekuazioa ezin da erabili sistema desoreka egoeretatik igaroz gero.  \n",
    "\n",
    "\n",
    "Beste modu batean adierazteko. Ez-orekako egoera mekanikoetan (termikoetan) ez dago esatea zenbatekoa den sistema *osoaren* presioa (tenperatura): ez dago sistema osoari dagokion presioaren (tenperaturaren) balio bakarra: ez dagoen balio bat ezin da funtzio matematiko batean ordezkatu.\n",
    "\n",
    "<br>"
   ]
  },
  {
   "cell_type": "markdown",
   "metadata": {},
   "source": [
    "Orduan, egoera-ekuazioa, edozein dela bere jatorrizko askatasun-gradua, honako era honetan adieraz daiteke, orokorrean:\n",
    "\n",
    "$$ f(X, Y, Z, \\dots) = 0 $$\n",
    "\n",
    "Sistemaren deskribapenean parte hartzen duten aldaga termodinamikoen funtzio inplizitu modura. Jakina, $f$ funtzio inpliztu hori hainbat funtzio esplizituren baliokidea da: $X = X(Y, Z, \\dots) \\equiv Y=Y(X, Z, \\dots)\\equiv \\dots$. Baliokide izateak esan nahi du bai funtzio inplizituan zein hortik ondorioztatu daitekeen funtzio esplizitu denetan informazio fisiko berebera dagoela. Hots, funtzio inplizitu berberatik lortutako funtzio esplizituak eduki fisiko berberaren aurpegi ezeberdinak dira: informazio fisiko berbera adierazteko era ezberdinak hain zuzen.\n",
    "\n",
    "Berebat esan beharra dago egoera-ekuazioek adierazten dutela beti sistemaren deskribapenean erabil daitezkeen aldagai termodinamiko denak ez direla indepnedente. Egoera-ekuazioek adierazten dituzte konfigurazio-espazioko ***zatiak***, teknikoki: gainzalak dira, konfigurazio-espazioaren dimentsioen kopurua ken bat dimentsioko gainazalak, hain zuzen.\n",
    "\n",
    "<br>"
   ]
  },
  {
   "cell_type": "markdown",
   "metadata": {},
   "source": [
    "Bi kasu aztertuko ditugu segidan:  \n",
    " 1. **3 askatasun-graduko sistema**\n",
    " 2. **2 askatasun-graduko sistema**\n",
    " \n",
    "Dena dela, bietan aukeratuko dugu 3 dimentsioko konfigurazio-espazioa.\n",
    "\n",
    "1. **3 askatasun-graduko sistema**:  \n",
    "  Konfigurazio-espazioa 3 dimentsiokoa izanik, horretan dauden puntuek sistemarekin lotutako oreka-egoerak (oreka termodinamikoko egoera, jakina, hemendik aurrera inplizituki onartuta dago hori) adierazten dituzte. Beraz, konfigurazio-espazioko puntu denek betetzen dute egoera-ekuazioa (edozein), eta konfigurazio-espazioa bera da egoera-ekauzioaren ***zatia***.\n",
    "  \n",
    "  <br>\n",
    "2. **2 askatasun-graduko sistema**:\n",
    "  Konfigurazio-espazioa 3 dimentsiokoa da, baina aldagai independenteen kopurua da 2, bi baino ez baitira askatasun-graduak. Orduan, egoera-ekuazioak (orok), aldagai termodinamikoen arteko lotura adierazten duenez (kasu honetan konfigurazio-espazioa definitzeko aukeratutakoak), konfigurazio-espazioko zenbait puntu ***aukeratzen ditu***, hain zuzen ere egoera-ekuazioak berak funtzio matematikoa denez ***lotzen*** dituenak. Hots, horrelako konfigurazio-espazioan sistemarekin lotutako oreka-egoerak egoera-ekuazioak defintzen duen gainazalean daudenak baino ez dira.\n",
    "\n",
    "<br>\n",
    " "
   ]
  },
  {
   "cell_type": "markdown",
   "metadata": {},
   "source": [
    "## Prozesuak\n",
    "\n",
    "<br>\n",
    "<br>"
   ]
  },
  {
   "cell_type": "markdown",
   "metadata": {},
   "source": [
    "### Egoera-ekuazioaren adierazpen diferentziala\n",
    "\n",
    "<br>\n",
    "<br>\n",
    "\n",
    "Egoera-ekuazioaren adierazpen diferentziala dugu helburu. Inportantea da adierazpen hori lortzea, horretan oinarrituko baitugu prozesuen adierazpena. Betiko moduan, masa konstanteko sistema hidrostikoa erabiliko dut dena ondorioztatzeko, jakinik ez dela orokortasunik galtzen.\n",
    "\n",
    "<br>\n",
    "Masa konstanteko sistema hidrostikoa izanik 2 askatasun-graud ditu: termikoa eta mekanikoa. Eta horietako bakoitzarekin lotuta egoera-ekuazioa, termikoa eta mekanikoa. Azterketa egoera-ekuazio mekanikoa erabilita egingo dut.\n",
    "\n",
    "<br>\n",
    "Normalean, honako era honetan adierazten da egoera-ekuazio mekanikoa:\n",
    "\n",
    "$$ \\color{green}{V} = \\color{green}{V}(\\color{blue}{T}, \\color{blue}{p}) $$\n",
    "\n",
    "Modu horretan eta horren baliokidea den beste edozein modutan, ikusi [ariketa-orria](https://jmigartua.github.io/TermodinamikaFisikaEstatistikoa2017_2018/ariketakSistemaBakunaEgoeraEkuazioa.html).  \n",
    "\n",
    "Egoera-ekuazioa existitzen den funtzio, aldagai termodinamikoena, matematikoa da eta, beraz, **diferentzial zehatza**. Fisikariok esaten dugun moduan portaera oneko funtzioa da: jarraitua, deribagarria...horrela aukeratzen dira sistemen propietate fiskoak adierazteko erabiltzen diren funtzio matematikoak. \n",
    "\n",
    "<br>\n",
    "Deribatu dezagun. Bi aldagai independenteko funtzioa denez, honako hau da dagokion diferentziala:\n",
    "\n",
    "$$ d\\,\\color{green}{V} = \\left( \\frac{\\partial \\color{green}{V}} \n",
    "                          {\\partial \\color{blue}{T}}            \n",
    "                          \\right)_p \\, d\\, \\color{blue}{T} + \n",
    "                          \\left( \\frac{\\partial \\color{green}{V}} \n",
    "                          {\\partial \\color{blue}{p}}            \n",
    "                          \\right)_T \\, d\\, \\color{blue}{p}$$\n",
    "                          \n",
    "<br>\n",
    "Fisikan, matematikako $d\\,$ diferentzialek *gauza* tixikiak adierazten dituzte, maila makroskopikoarekin alderatuta (nahi dugun txiki!!), baina handiak maila mikroskopikoan. Beraz, idatzi dudan adierazpen diferentzial matematiko horrek honako hau adierazten du: bolumenak izan dezakeen aldaketarik orokorrena, bi aldagaiek (aldagai termodinamikoek) ekarpena egiten baitute. Hau da, fisikoki: bolumenak izan dezakeen aldaketarik orokorrena, sistemak eskura dituen bi askatasun-graduak erabiltzen baditu aldi berean eta era independentean.\n",
    "\n",
    "<br>\n"
   ]
  },
  {
   "cell_type": "markdown",
   "metadata": {},
   "source": [
    "Grafikoki, honako irudi honek adierazten du aldaketa diferentziala.\n",
    "\n",
    "<br>"
   ]
  },
  {
   "cell_type": "markdown",
   "metadata": {},
   "source": [
    "$V=V(T,p)$ egoera-ekuazio mekanikoaren diferentzialak bi atal ditu: deribatu partzialek adierazten dituztenak. Behin eta berriro agertu dira formalismoan deribatu partzialak. Oso inportantea da horiek ondo idaztea, formalki beharrezkoa delako (matematikariek esango lukete) baina baita ere eduki fisikoa dutelako.\n",
    "\n",
    "<br>\n",
    "Erreparatu diezagun lehengo atalari:\n",
    "\n",
    ">$$ \\left( \\frac{\\partial \\color{green}{V}} \n",
    "                          {\\partial \\color{blue}{T}}            \n",
    "                          \\right)_p $$\n",
    "                          \n",
    "Atal horrek adierazten du nola aldatzen den bolumena tenperatura aldatzen dugunean $p$ konstanteko baldintzatan; hots, baldintza esperimentalak adierazita daude eta egon behar dute adierazita. Bestela, atalak ez dauka zentzu fisikorik.  \n",
    "\n",
    "Beraz, $V$ aldatzeko era orokorrenean bi aldaketa independente egin behar dira: presio konstantekoa eta tenperatura konstantekoa. Irudiari begiratua, erraza konturatzea diferentzialak (funtzio matematikoaren diferentzialak) bi puntu lotzen dituela. Baina kontuz: bi puntu horiek egoera-ekuazioa betetzen dutenez, egoera-ekuazioak defintzen duen gainazaleko puntuak dira, beraz, oreka-egoerak adierazten dituzte bi puntu horiek. Hori da, fisik adago hasierako eta bukaerako puntuetan.\n",
    "\n",
    ">Dena dela, zer adierazten du, fisikoki, direntzialaren atal bakoitzak?\n",
    "\n",
    "Desorekaturik dagoen indarren badagoela, sistema zegoen oreka-egoeratik aterako duena. kasu honetan, desoreka termikoa adierazten du atalak. Bigarrenak desoreka mekanikoa. Egiatan, adierazpen matematikoari berdin dio zer modutan lortzen den desoreka termikoa (mekaniko). Desoreka dago, hori da inportantea, eta desoreka horrek oreka-egoeratik aterako du sistema. Baina oreka egoeratik kanpo dagoenean sistema, ezin da egoera-ekuazioa erabili...ez baitago definituta, orduan, zer?  \n",
    "\n",
    "Fisikoki esan beharko dugu honako hau: desoreka termikoaren jatorri fisikoa edozein izanda ere (jatorria edozein izan daiteke baina modua ez, presio konstantean eragiten baita aldaketa), lehenengo atalak adierazten du $p$ konstanteko desoreka mekanikoaren ondorioz oreka-egoera batetik beste batera pasarazi dela sistema, hasierako egoeran eta bukaerako egoeran sistemaren bolumenaren balioak $V_{0}$ eta $V_{1}$ izanik, hurrenez hurren, esaterako.  \n",
    "\n",
    "Jakina, desoreka sortzen da sistema eta ingurunearen artean eta bereizte-hormari esker. Gure esku dago berezite-hormaren izaera, askatasun-graduei dagokienez, eta izaera aldaketa"
   ]
  },
  {
   "cell_type": "code",
   "execution_count": 1,
   "metadata": {},
   "outputs": [
    {
     "data": {
      "text/html": [
       "<style>.container { width:100% !important; }</style>"
      ],
      "text/plain": [
       "<IPython.core.display.HTML object>"
      ]
     },
     "metadata": {},
     "output_type": "display_data"
    },
    {
     "data": {
      "text/html": [
       "<link href='http://fonts.googleapis.com/css?family=Fenix' rel='stylesheet' type='text/css'>\n",
       "<link href='http://fonts.googleapis.com/css?family=Alegreya+Sans:100,300,400,500,700,800,900,100italic,300italic,400italic,500italic,700italic,800italic,900italic' rel='stylesheet' type='text/css'>\n",
       "<link href='http://fonts.googleapis.com/css?family=Source+Code+Pro:300,400' rel='stylesheet' type='text/css'>\n",
       "<style>\n",
       "    @font-face {\n",
       "        font-family: \"Computer Modern\";\n",
       "        src: url('http://mirrors.ctan.org/fonts/cm-unicode/fonts/otf/cmunss.otf');\n",
       "    }\n",
       "    div.cell{\n",
       "        width:1200px;/* 800 default */\n",
       "        margin-left:10% !important;  /* margin-left:16% !important; default this changes the margin to the page*/\n",
       "        margin-right:auto;\n",
       "    }\n",
       "    h1 {\n",
       "        font-family: 'Alegreya Sans', sans-serif;/*  */\n",
       "    }\n",
       "    h2 {\n",
       "        font-family: 'Alegreya Sans', sans-serif;/*'Fenix', serif;  */\n",
       "    }\n",
       "    h3{\n",
       "\t\tfont-family: 'Alegreya Sans', sans-serif;/*'Fenix', serif;  */\n",
       "        margin-top:12px;\n",
       "        margin-bottom: 3px;\n",
       "       }\n",
       "\th4{\n",
       "\t\tfont-family: 'Alegreya Sans', sans-serif;/* 'Fenix', serif; */\n",
       "       }\n",
       "    h5 {\n",
       "        font-family: 'Alegreya Sans', sans-serif;\n",
       "    }\t   \n",
       "    div.text_cell_render{\n",
       "        font-family: 'Alegreya Sans',Computer Modern, \"Helvetica Neue\", Arial, Helvetica, Geneva, sans-serif;\n",
       "        line-height: 135%;\n",
       "        font-size: 120%;\n",
       "        width:900px; /* 600 default */\n",
       "        margin-left:auto;/* auto default */\n",
       "        margin-right:auto;/* auto default */\n",
       "    }\n",
       "    .CodeMirror{\n",
       "            font-family: \"Source Code Pro\";/* 'Alegreya Sans', sans-serif; */\n",
       "\t\t\tfont-size: 90%;\n",
       "    }\n",
       "/*    .prompt{\n",
       "        display: None;\n",
       "    }*/\n",
       "    .text_cell_render h1 {\n",
       "        font-weight: 200;\n",
       "        font-size: 50pt;\n",
       "\t\tline-height: 100%;\n",
       "        color:#CD2305;\n",
       "        margin-bottom: 0.5em;\n",
       "        margin-top: 0.5em;\n",
       "        display: block;\n",
       "    }\t\n",
       "    .text_cell_render h2 {\n",
       "        font-weight: 200;\n",
       "        font-size: 30pt;\n",
       "        color: #CD2305;\n",
       "        font-style: italic;\n",
       "        margin-bottom: .5em;\n",
       "        margin-top: 0.5em;\n",
       "        display: block;\n",
       "    }\n",
       "    \n",
       "    .text_cell_render h5 {\n",
       "        font-weight: 200;\n",
       "        font-size: 16pt;\n",
       "        color: #CD2305;\n",
       "        font-style: italic;\n",
       "        margin-bottom: .5em;\n",
       "        margin-top: 0.5em;\n",
       "        display: block;\n",
       "    }\n",
       "    \n",
       "    .warning{\n",
       "        color: rgb( 240, 20, 20 )\n",
       "        }\n",
       "    \n",
       "    .blockquote{\n",
       "      display:block;\n",
       "      background: #fff;\n",
       "      padding: 15px 20px 15px 45px;\n",
       "      margin: 0 0 20px;\n",
       "      position: relative;\n",
       "      \n",
       "      /*Font*/\n",
       "      font-family: Georgia, serif;\n",
       "      font-size: 16px;\n",
       "      line-height: 1.2;\n",
       "      color: #666;\n",
       "      text-align: justify;\n",
       "      \n",
       "      /*Borders - (Optional)*/\n",
       "      border-left: 15px solid #c76c0c;\n",
       "      border-right: 2px solid #c76c0c;\n",
       "      \n",
       "      /*Box Shadow - (Optional)*/\n",
       "      -moz-box-shadow: 2px 2px 15px #ccc;\n",
       "      -webkit-box-shadow: 2px 2px 15px #ccc;\n",
       "      box-shadow: 2px 2px 15px #ccc;\n",
       "     }\n",
       "    \n",
       "    .blockquote::before{\n",
       "      content: \"\\201C\"; /*Unicode for Left Double Quote*/\n",
       "      \n",
       "      /*Font*/\n",
       "      font-family: Georgia, serif;\n",
       "      font-size: 60px;\n",
       "      font-weight: bold;\n",
       "      color: #999;\n",
       "      \n",
       "      /*Positioning*/\n",
       "      position: absolute;\n",
       "      left: 10px;\n",
       "      top:5px;\n",
       "     }\n",
       "    \n",
       "    .blockquote::after{\n",
       "      /*Reset to make sure*/\n",
       "      content: \"\";\n",
       "     }\n",
       "    \n",
       "    .blockquote a{\n",
       "      text-decoration: none;\n",
       "      background: #eee;\n",
       "      cursor: pointer;\n",
       "      padding: 0 3px;\n",
       "      color: #c76c0c;\n",
       "    }\n",
       "    \n",
       "    .blockquote a:hover{\n",
       "     color: #666;\n",
       "    }\n",
       "    \n",
       "    .blockquote em{\n",
       "      font-style: italic;\n",
       "    }\n",
       "</style>\n",
       "<script>\n",
       "    MathJax.Hub.Config({\n",
       "                        TeX: {\n",
       "                           extensions: [\"AMSmath.js\"]\n",
       "                           },\n",
       "                tex2jax: {\n",
       "                    inlineMath: [ ['$','$'], [\"\\\\(\",\"\\\\)\"] ],\n",
       "                    displayMath: [ ['$$','$$'], [\"\\\\[\",\"\\\\]\"] ]\n",
       "                },\n",
       "                displayAlign: 'center', // Change this to 'center' to center equations.\n",
       "                \"HTML-CSS\": {\n",
       "                    styles: {'.MathJax_Display': {\"margin\": 4}}\n",
       "                }\n",
       "        });\n",
       "</script>"
      ],
      "text/plain": [
       "<IPython.core.display.HTML object>"
      ]
     },
     "execution_count": 1,
     "metadata": {},
     "output_type": "execute_result"
    }
   ],
   "source": [
    "from IPython.core.display import HTML, display\n",
    "display(HTML(\"<style>.container { width:100% !important; }</style>\"))\n",
    "\n",
    "def css_styling():\n",
    "    styles = open(\"./custom.css\", \"r\").read()\n",
    "    return HTML(styles)\n",
    "\n",
    "css_styling()\n",
    "\n",
    "\n",
    "# Taken from this link\n",
    "#  https://github.com/barbagroup/CFDPython\n",
    "#  Interactive Computational Fluid Dynamics (CFD) in Python, CFDPython, Course\n",
    "#  © Prof. Lorena A. Barba, 2015. "
   ]
  }
 ],
 "metadata": {
  "gist": {
   "data": {
    "description": "Untitled.ipynb",
    "public": false
   },
   "id": ""
  },
  "kernelspec": {
   "display_name": "Python 2",
   "language": "python",
   "name": "python2"
  },
  "language_info": {
   "codemirror_mode": {
    "name": "ipython",
    "version": 2
   },
   "file_extension": ".py",
   "mimetype": "text/x-python",
   "name": "python",
   "nbconvert_exporter": "python",
   "pygments_lexer": "ipython2",
   "version": "2.7.15"
  }
 },
 "nbformat": 4,
 "nbformat_minor": 2
}
