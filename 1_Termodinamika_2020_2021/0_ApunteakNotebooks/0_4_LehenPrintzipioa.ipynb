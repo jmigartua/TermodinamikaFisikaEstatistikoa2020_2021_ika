{
 "cells": [
  {
   "cell_type": "markdown",
   "metadata": {},
   "source": [
    "# Lehen Printzipioa\n",
    "\n",
    "<br>\n",
    "<br>"
   ]
  },
  {
   "cell_type": "markdown",
   "metadata": {},
   "source": []
  },
  {
   "cell_type": "markdown",
   "metadata": {},
   "source": [
    "## Lana:\n",
    "<br>\n",
    "<br>"
   ]
  },
  {
   "cell_type": "markdown",
   "metadata": {},
   "source": [
    "### Masa konstanteko sistema hidrostatikoaren egoera aldatzeko *moduak*\n",
    "<br>\n"
   ]
  },
  {
   "cell_type": "markdown",
   "metadata": {},
   "source": []
  },
  {
   "cell_type": "markdown",
   "metadata": {},
   "source": [
    "### Iruzkina. Oinarrizko bereizketa: *sistema/ingurunea* bikotea\n",
    "<br>\n"
   ]
  },
  {
   "cell_type": "markdown",
   "metadata": {},
   "source": []
  },
  {
   "cell_type": "markdown",
   "metadata": {},
   "source": [
    "### Lan adiabatikoa\n",
    "<br>\n"
   ]
  },
  {
   "cell_type": "markdown",
   "metadata": {},
   "source": []
  },
  {
   "cell_type": "markdown",
   "metadata": {},
   "source": [
    "### Lehenengo Printzipioaren formulazio matematikoa\n",
    "<br>\n"
   ]
  },
  {
   "cell_type": "markdown",
   "metadata": {},
   "source": []
  },
  {
   "cell_type": "markdown",
   "metadata": {},
   "source": [
    "### Lehenengo Printzipioaren adierazpen diferentziala: laburbilduma\n",
    "<br>\n"
   ]
  },
  {
   "cell_type": "markdown",
   "metadata": {},
   "source": []
  },
  {
   "cell_type": "markdown",
   "metadata": {},
   "source": [
    "### Lehenengo Printzipioaren adierazpen diferentzialaren: laburbildumari egindako *iruzkina*\n",
    "<br>\n"
   ]
  },
  {
   "cell_type": "markdown",
   "metadata": {},
   "source": []
  },
  {
   "cell_type": "markdown",
   "metadata": {},
   "source": [
    "### Bero-ahalmenak\n",
    "<br>\n"
   ]
  },
  {
   "cell_type": "markdown",
   "metadata": {},
   "source": []
  },
  {
   "cell_type": "markdown",
   "metadata": {},
   "source": [
    "### Bero-iturriak\n",
    "<br>\n"
   ]
  },
  {
   "cell_type": "markdown",
   "metadata": {},
   "source": []
  },
  {
   "cell_type": "markdown",
   "metadata": {},
   "source": [
    "### Lehenengo Printzipioaren adierazpen diferentzialaren *formak*\n",
    "<br>\n"
   ]
  },
  {
   "cell_type": "markdown",
   "metadata": {},
   "source": [
    "Dagoeneko lortu dugu *lehen printzipioaren* (1P) adierazpena, prozesu finitu bat zein prozesu infinitesimalari dagokiona, honako bi hauek, hurrenez hurren:\n",
    "\n",
    "$$ Q = \\Delta U - W $$\n",
    "\n",
    "$$ \\delta Q = dU - \\delta W $$\n",
    "\n",
    "<br>\n",
    "Gainera, lortu dugu sistema edozein denean, hots, harekin lotutako askatasun-graduak edozein idan daitezke eta edozein kantitatean izan ditzake. Oraingo honetan, berriro erabiliko dugu masa konstanteko sistema hidrostatikoa, bi askatasun-gradukoa bera (*termikoa* eta *mekanikoa*), nahiz eta orain arte esan izan dugun moduan, hori egintean ez dugun orokortasunik galduko ondorioztatutakoetan.\n",
    "\n",
    "<br>\n"
   ]
  },
  {
   "cell_type": "markdown",
   "metadata": {},
   "source": [
    "Beraz, aztertuko dugun sistemak bi modutan baino ezin du egoera aldatu (edo *energia-edukia* aldatu): termikoki lotuta dagoela ingurunearekin, hots, askatasun-gradu termikoa erabiliz; edo, mekanikoki lotuta dagoela ingurunearekin, hau da, lan mekanikoa eginez.  \n",
    "\n",
    "Orduan, 1P-ari dagokion adierazpen diferentziala, dagoeneko ordezkatuta egin dezakeen lan mota bakarrari (mekanikoari: $\\delta W = -p\\,dV$, dagokion adierazpen diferntziala, egoera-aldaketa orokorrenaren kasuan honako hau da:\n",
    "\n",
    "$$ \\delta Q = dU - \\delta W $$\n",
    "\n",
    "$$ \\delta Q = dU + p\\,dV $$\n",
    "\n",
    ">Horixe da lehen printzipioaren adierazpen diferentziala masa konstanteko sistema hidrostatikoaren kasuan.  \n",
    "> Ez da lehen printzipioaren adierazpen diferentziala!   \n",
    "\n",
    "Horixe izango da abiapuntua *masa kosntanteko sistema hidrostatikoaren kasuan lehen printzipioaren adierazpen diferentziala lortzeko erabilgarri diren aldagai termodinamikoen edozein bikoteren funtzioan idazteko*.  \n",
    "\n",
    "Masa konstanteko sistema hidrostatikoak askatasun-gradu termikoa eta mekanikoa baino ez ditu, *bi baino ez dira aldagai independeteak*. Aldagai independenteen sorta segidako edozein izan daiteke:\n",
    "\n",
    "$$ (T, V) \\hspace{1cm} (T, p) \\hspace{1cm} (V, p) $$  \n",
    "\n",
    "Idatz ditzagun bada, honako hauek:\n",
    "\n",
    "$$ \\delta Q \\rightarrow \\delta Q \\left( T, V \\right) $$  \n",
    "\n",
    "$$ \\delta Q \\rightarrow \\delta Q \\left( T, p \\right) $$ \n",
    "\n",
    "$$ \\delta Q \\rightarrow \\delta Q \\left( V, p \\right) $$  \n",
    "\n",
    "<br>"
   ]
  },
  {
   "cell_type": "markdown",
   "metadata": {},
   "source": [
    "> Kontura zaitez ez dudala, esateko, honako hau idatzi: $ \\delta Q = \\delta Q \\left( T, V \\right) $.  \n",
    ">  \n",
    "> Hori idatzitakoan, agian, uler zitekeen *badagoela* $\\delta Q$ funtzio bat, hots, badagoela prozesu infinitesimal batean sistema bati dagokion *beroa* propietatearen aldaketa infinitesimala: **EZ!!** Hori ez da egia, jakina. Lehenengo aldiz idazten dudanez, geziaz adierazten dut eta iruzkin honez laguntzen dut argitzeko.  \n",
    ">\n",
    "> Hemendik aurrera $=$ ***berdintza*** erabiliko dut, nahiz eta idatziko dudan ekuazioa izango den diferentzialen arteko erlazioa, diferentzialen batura, eta inondik inora ez *existitzen den funtzio baten adierazpen diferentziala*.  \n",
    ">\n",
    "> Orduan, honako hauek lortzea dugu helburu:  \n",
    "\n",
    ">$$ \\delta Q = \\delta Q \\left( T, V \\right) $$  \n",
    ">\n",
    ">$$ \\delta Q = \\delta Q \\left( T, p \\right) $$ \n",
    ">\n",
    ">$$ \\delta Q = \\delta Q \\left( V, p \\right) $$  \n",
    "\n",
    "<br>"
   ]
  },
  {
   "cell_type": "markdown",
   "metadata": {},
   "source": [
    "Praktikotasunari begira, lortuko dugun adierazpenean *koefiziente esperimentalak*, $\\left(\\alpha, \\kappa_{T}, C_{p}, C_{V} \\right)$, agertu dira. Beraz, beste hau ere bai izan daiteke helburua: masa konstanteko sistema hidrostatikoaren kasuan, lehen printzipioaren adierazpen diferentziala lortzea koefiziente esperimentalen funtzioan, horretarako edozein bi aldagai independeteen sorta aukeratu dugula.  \n",
    "\n",
    "Fisikari dagokionez, irakurketa honako hau da: lortuko dugun adierazpenak adierazten du (masa konstanteko) sistema hidrostatikoak *trukatzen duen* beroa (beroaren adierazpen diferentziala) jarrai diezaiokeen prozesu orkorrenari jarraitzean; hots, trukatzen duen beroak *bi* atal izango ditu: sistemak berak daukan energia-edukiaren aldaketa, $\\delta U$, eta sistemak berak egiten duen lana, lan mekanikoa bera, $\\delta W$.  \n",
    "\n",
    "Idatziko dugu, beraz, edozein prozesutan (masa konstanteko) sistema hidrostatikoak trukatuko duen beroaren adierazpen diferentziala, horretarako nahi ditugun aldagai termodinamiko independente aukeratu ditugula.  \n",
    "\n",
    "Edozein aldagai termodinamikoren funtzioan *idaztea* oso interesantea da, horien bidez adierazten baita zer moduz, zer baldintza esperimentaletan, gertatu den prozesua. Hots, modu honetan ***kontuan hartzen ari gara*** prozesua gertatu den baldintza esperimentalak. \n",
    "\n",
    "<br>"
   ]
  },
  {
   "cell_type": "markdown",
   "metadata": {},
   "source": [
    ">Idatz dezagun bada $\\delta Q = \\delta Q\\left(T, V \\right)$ aldaketa diferentzialarei dagokion adierazpena $(T, V)$ erabilita.  \n",
    "\n",
    ">$$ \\delta Q = dU - \\delta W \\equiv\\hspace{0.25cm}\\textrm{sistema  hidrostatikoan:}\\hspace{0.50cm} \\delta Q = dU + p\\,dV $$  \n",
    "\n",
    "<br>\n",
    "\n",
    "Dena idatzi behar dedanez $(T, V)$ bikotearen funtzioan, idatz dezadan $U$ bikote horren funtzioa; hots, onar dezadan abiapuntuan $U=U(T,V)$ daukadala eta barne-energia *funtzioari* dagokion adierazpen diferentziala idatziko dut, honako hau:\n",
    "\n",
    "$$ dU = \\left( \\frac{\\partial U}{\\partial T} \\right)_{V}\\, dT + \n",
    "        \\left( \\frac{\\partial U}{\\partial V} \\right)_{T}\\, dV $$  \n",
    "        \n",
    "Berori abiapuntuan ordezkatutakoan, honako hau lortzen dut:  \n",
    "\n",
    "$$ \\delta Q = \\left( \\frac{\\partial U}{\\partial T} \\right)_{V}\\, dT + \n",
    "              \\left( \\frac{\\partial U}{\\partial V} \\right)_{T}\\, dV + p\\,dV$$  \n",
    "               \n",
    "Dagoeneko, eskuin aldean, bi aldagai independenteen aldaketa diferentzialak dauzkat: $dT$ eta $dV$. Berridatziko dut:  \n",
    "\n",
    "$$\\boxed{\n",
    "   \\delta Q =        \\left( \\frac{\\partial U}{\\partial T} \\right)_{V}\\, dT + \n",
    "               \\left[\\left( \\frac{\\partial U}{\\partial V} \\right)_{T}+ p \\right]\\, dV}$$   \n",
    "               \n",
    "> Soilik gogorarazteko: lehen printzipioaren adierazpen diferentziala baino ez da hori,(masa konstanteko) sistema hidrostatikoan eta $(T, V)$ bikoteko aldagaiak independente izanik; hots, eragin dugun prozesu infinitesimalean, $T$ eta $V$ aldatuta, sistemak trukatu duen bero kantitate infinitesimala, bi atal dituena berak: (barne-)energia-edukiaren aldaketa eta prozesuan sistemak egin duen lan (mekaniko) infinitesimala.  \n",
    "\n",
    "<br>"
   ]
  },
  {
   "cell_type": "markdown",
   "metadata": {},
   "source": [
    "Momentuz ahaztu egingo dut adierazpenaren eduki fisikoa eta erreparatuko diot soilik *adierazpen matematikoari*. Gainera, zenbait manipulazio egingo dut, hain zuzen:  \n",
    "\n",
    "  1. $dT$ erabilita zatitu egingo dut:    \n",
    "<br>\n",
    "$$\\left[\\,\\delta Q =\\left(\\frac{\\partial U}{\\partial T}\\right)_{V}\\,dT+\\left[\\left( \\frac{\\partial U}{\\partial V} \\right)_{T}+p\\right]\\,dV\\,\\right]\\times\\frac{1}{dT}$$     \n",
    "$$\n",
    "\\frac{\\delta Q}{dT} =\\left(\\frac{\\partial U}{\\partial T}\\right)_{V}\\,\\frac{dT}{dT}+\\left[\\left(\\frac{\\partial U}{\\partial V}\\right)_{T}+p\\right]\\,\\frac{dV}{dT}\n",
    "   $$\n",
    "<br>\n",
    "  2. lortutako emaitza bi baldintza esperimentaletan aztertuko dut:  \n",
    "   - $V$ bolumena konstatean   \n",
    "<br>\n",
    "$$\n",
    "\\left(\\frac{\\delta Q}{dT}\\right)_{V} =\n",
    "\\left(\\frac{\\partial U}{\\partial T}\\right)_{V}\\,\\left(\\frac{dT}{dT}\\right)_{V}+\\left[\\left(\\frac{\\partial U}{\\partial V}\\right)_{T}+p\\right]\\, \\left(\\frac{dV}{dT}\\right)_{V}\n",
    "   $$\n",
    "<br>  <p><p>\n",
    "    Eskuineko lehen atala erraztu eginten da eta, bigarrena, era bai: bolumena aldatu behar dut, tenperatura aldatuz horretarako baina bolumena kontante mantenduz! Beraz, $\\left(\\frac{dV}{dT}\\right)_{V}$ koefizientea nulua da identikoki eta berdin dio zer koefiziente daukan biderkatzen: $ \\left[\\left( \\frac{\\partial U}{\\partial V} \\right)_{T}+ p \\right]$.  <p><p>  <p><p>\n",
    "    Honako hau da lortzen dudan adierazpena:  \n",
    "    $$ \\left(\\frac{\\delta Q}{dT}\\right)_{V} =\\left(\\frac{\\partial U}{\\partial T}\\right)_{V}$$  \n",
    "    Lortutako berdintza hori erabt orkorra da eta edozein sistema hidorstatikotan betetzen da.  \n",
    "    >Kontura zaitez $\\left( \\frac{\\delta Q}{dT} \\right)_{V} = C_{V}$ dela; hortaz, egiatan, honako hau ondorioztatu dut, erabat orokorra dena, gainera:  \n",
    "    >$$ \\boxed{\n",
    "    C_{V} = \\left( \\frac{\\partial U}{\\partial T} \\right)_{V} }\n",
    "    $$  \n",
    "    ><p><p>\n",
    "    >Edozein sistema hidrostatikoren kasuan barne-energiaren barne-egituraren alderdi bat ezagutzen dugu, beti: sistema hidrostatikoen barne-energiaren bolumen konstanteko aldaketa tenperatura aldatzean da bolumen konstanteko bero-ahalmena, koefiziente esperimentala bera.  \n",
    "   - $p$ presio konstantean\n",
    "<br>\n",
    "$$\n",
    "\\left(\\frac{\\delta Q}{dT}\\right)_{p} =\\left( \\frac{\\partial U}{\\partial T} \\right)_{V}\\, \\left(\\frac{dT}{dT}\\right)_{p}+\\left[\\left(\\frac{\\partial U}{\\partial V}\\right)_{T}+ p \\right]\\,\\left(\\frac{dV}{dT}\\right)_{p}\n",
    "   $$\n",
    "<br>  <p><p>\n",
    "    Oraingo honetan, eskuin aldeko lehen atala aurreko kasuan erraztu den modu berean errazten da: tenperatura aldaketa neurtu behar da, tenperatura aldatuz, $p$ konstanteko baldintzatan. Eskuin aldeko bigarrn atalaren kasuan aldiz, gauzak ezebrdinak dira: egiatan, honako honi erreparatu behar diozu:  \n",
    "<br>\n",
    "    $$\\left(\\frac{dV}{dT}\\right)_{p}\\,\\rightarrow\\,\\left(\\frac{\\partial V}{\\partial T}\\right)_{p}$$\n",
    "    <br> <p><p>\n",
    "    Egin behar dela, presio konstanteko baldintzek $\\frac{dV}{dT}$ deribatuaren (diferentzialaren) *aldaketa baino ez dutelako aukeratzen*; hots, baldintza esperimentalek aldaketa osoaren proiekzioa aukeratzen dute. Eskui aldeko lehen atalari dagoekionez, arestian lortutako kontuan hartuz, $C_{V}$ dela dakigu.  \n",
    "    >Azkenik ezker aldeko atala da $\\left(\\frac{\\delta Q}{dT}\\right)_{p}= C_{p}$, definizioz. Beraz, ondorioz, honako hau idatz dezaket:  \n",
    "    <br>\n",
    "    >$$ \n",
    "    C_{p} = C_{V} + \\left[\\left( \\frac{\\partial U}{\\partial V} \\right)_{T}+ p \\right]\\,                       \\left(\\frac{\\partial V}{\\partial T}\\right)_{p}\n",
    "    $$  \n",
    "    > Ekar dezadan gogora $\\alpha = \\frac{1}{V}\\left( \\frac{\\partial V}{\\partial T} \\right)_{p}$ koefiziente esperimentalaren definizioa eta, horren bidez, honako hau idatz dezaket:  \n",
    "    >$$ \n",
    "    C_{p} = C_{V} + \\left[\\left( \\frac{\\partial U}{\\partial V} \\right)_{T}+ p \\right]\\,                       V\\alpha\n",
    "    $$  \n",
    "    ><p><p>\n",
    "   \n",
    "Oraindik ez dut helburua lortu: $\\delta Q = \\delta Q \\left( \\{\\alpha, \\kappa_{T}, C_{p}, C_{V}\\} \\right)$ adierazpena. (Kontuz!! Ondo irakurri $=$ berdintza.)  \n",
    "\n",
    "Horretarako, idatz dezadan azkenik ondorioztatutako adierazpena beste modu batea, zeinean, *azalaraziko* dudan barne-energiaren barne-egitura, falta zaidan deribatua (partziala) aukeratutako aldagai termodinamikoen independenteen funtzioa, hots, $\\left( \\frac{\\partial U}{\\partial V} \\right)_{T} $, honako hau:  \n",
    "\n",
    "$$ \\left( \\frac{\\partial U}{\\partial T} \\right)_{V} = \n",
    "\\frac{C_{p} - C_{V}}{V\\alpha} - p \n",
    "$$  \n",
    "\n",
    "Ordezkatu egingo ditut lehen printzipioaren adierazpen diferentzialean lortutako barne-energiaren bi deribatuak, honako hau lortuz:  \n",
    "\n",
    "$$ \\delta Q =        \\left( \\frac{\\partial U}{\\partial T} \\right)_{V}\\, dT + \n",
    "               \\left[\\left( \\frac{\\partial U}{\\partial V} \\right)_{T}+ p \\right]\\, dV\n",
    "$$  \n",
    "<br>\n",
    "$$  \n",
    "\\delta Q = C_{V}\\, dT + \\left[\\frac{C_{p} - C_{V}}{V\\alpha} - p + p \\right]\\, dV\n",
    "$$\n",
    "<br>\n",
    "$$\\boxed{  \n",
    "\\delta Q = C_{V}\\, dT + \\left[ \\frac{C_{p} - C_{V}}{V\\alpha}\\right] \\, dV\n",
    "}$$\n"
   ]
  },
  {
   "cell_type": "markdown",
   "metadata": {},
   "source": [
    ">Lortu dut, beraz, lehen printzipioaren adierazpen diferentziala, masa konstanteko sistema hidrostatikoaren kasuan, $T$ eta $V$ aldagai independentetzat hartuz eta koefiziente esperimentalen funtzioan.  \n",
    "\n",
    ">Esan bezala, adierazpen horrek adierazten du sistemak trukatutako bero kantitate infinitesimala, erangidako prozesuan $T$ eta $V$ aldatutakoan.  \n",
    "\n",
    ">Prozesu horretan sistemaren barne-energiaren aldaketa erraz kalkulatu daiteke, konturatuz, barne-energiaren diferentziala (jakina, kasu honetan benetako diferentziala, $U$ existitzen den funtzioa baita, sistemaren propietate bat adierazten duena) aukeratutako aldagai termodinamiko independenteen, $T$ eta $V$, funtzioan baita ere lortu dudala:  \n",
    "\n",
    ">$$ \\left( \\frac{\\partial U}{\\partial T} \\right)_{V} = C_{V} $$  \n",
    ">\n",
    ">$$ \\left( \\frac{\\partial U}{\\partial T} \\right)_{V} = \n",
    "\\frac{C_{p} - C_{V}}{V\\alpha} - p \n",
    "$$  \n",
    "><br>\n",
    ">Azkenik, sistemak trukatutako bero kantitate infinitesimala eta haren barne-energiaren aldaketa infinitesimala lortutakoan, lehen printzipioaren adierazpenean ordezkatuta, eragindako prozesuan sistemak egin duen lana (infinitesimala) kalkulatu dezaket. Hots, prozesuan sistemak egin dituen energia-truke guztiak, *desordenatua* (beroa) eta *ordenatua* (lana) ezagunak dira.  \n",
    ">\n",
    ">Orduan, sistema edozein izanda (masa konstanteko hidrostatikoa), berari buruzko informazioa koefiziente esperimentaletan daukagula eta prozesua ezaguta, aztertutako kasuan $T$ eta $V$ aldagai termodinamiko independenteen funtzioan, ***dena*** dugu kalkulatuta.  \n",
    "<br>\n",
    "\n",
    " "
   ]
  },
  {
   "cell_type": "markdown",
   "metadata": {},
   "source": [
    "Deskribatu dudan hori guztia errepikatu dezaket, baina arestian esan bezala, aldagai termodinamiko independeteen bikotea (finkatu dudan sistemaren kasuan) edozein dela. Honako hauek guztiak dira lortzen direnak:\n",
    "\n",
    "1. $( T,  V)$ aldagai independenteak:  \n",
    ">  - lehen printzipioaren adierazpen diferentziala edo sistemak trukatu duen beroa: \n",
    ">      <p><p>\n",
    ">    - $$ \\boxed{\\delta Q = C_{ V}\\, d T + \\left[ \\frac{C_{ p} - C_{ V}}{ V\\alpha}\\right] \\, d V} $$  \n",
    ">        <p><p>\n",
    ">  - barne-energiaren barne-egitura; hots, bi deribatuak:  \n",
    ">      <p><p>\n",
    ">    - $$ \\left( \\frac{\\partial  U}{\\partial  T} \\right)_{ V} = C_{ V} $$  \n",
    ">    <p><p>\n",
    ">    - $$ \\left( \\frac{\\partial  U}{\\partial  T} \\right)_{ V} = \\frac{C_{ p}-C_{ V}}{ V\\alpha}- p$$  \n",
    ">    <p><p>\n",
    ">    - $$ \\boxed{d U = \\left[C_{ V}\\right]\\,d T+\\left[\\frac{C_{ p}-C_{ V}}{ V\\alpha}- p\\right]\\,d V}$$\n",
    "\n",
    "2. $( T,  p)$ aldagai independenteak:  \n",
    ">  - lehen printzipioaren adierazpen diferentziala edo sistemak trukatu duen beroa: \n",
    ">      <p><p>\n",
    ">    - $$ \\boxed{\\delta Q = C_{ p}\\, d T + \\left[  -(C_{ p} - C_{ V})\\frac{\\kappa_{ T}}{\\alpha} \\right] \\, d p} $$  \n",
    ">        <p><p>\n",
    ">  - barne-energiaren barne-egitura; hots, bi deribatuak:  \n",
    ">      <p><p>\n",
    ">    - $$ \\left( \\frac{\\partial  U}{\\partial  T} \\right)_{ p} = C_{ p} -  p\\, V\\alpha$$  \n",
    ">    <p><p>\n",
    ">    - $$ \\left( \\frac{\\partial  U}{\\partial  p} \\right)_{ T} = -(C_{ p} - C_{ V})\\frac{\\kappa_{ T}}{\\alpha} +  p\\, V\\kappa_{ T}$$  \n",
    ">    <p><p>\n",
    ">    - $$ \\boxed{dU = \\left[C_{ p}-\\color{blue{p}}\\,V\\alpha \\right]\\,dT+\\left[-(C_{ p}-C_{ V})\\frac{\\kappa_{T}}{\\alpha}+p\\,V\\kappa_{T}\\right]\\,dp}$$\n",
    "\n",
    "3. $( V,  p)$ aldagai independenteak:  \n",
    ">  - lehen printzipioaren adierazpen diferentziala edo sistemak trukatu duen beroa: \n",
    ">      <p><p>  \n",
    ">    - $$ \\boxed{\\delta Q = \\left[\\frac{C_{ p}}{ V\\alpha} \\right]\\,d V+\\left[\\frac{\\kappa_{ T}}{\\alpha}\\,C_{ V}\\right]\\,d p} $$  \n",
    ">        <p><p>\n",
    ">  - barne-energiaren barne-egitura; hots, bi deribatuak:  \n",
    ">      <p><p>\n",
    ">    - $$ \\left( \\frac{\\partial  U}{\\partial  V} \\right)_{ p} = \\left[ \\frac{C_{ p}}{ V\\alpha}- p \\right] $$  \n",
    ">    <p><p>   \n",
    ">    - $$ \\left( \\frac{\\partial  U}{\\partial  p} \\right)_{ V} = \\frac{\\kappa_{ T}}{\\alpha}\\,C_{ V}$$  \n",
    ">    <p><p>  \n",
    ">    - $$ \\boxed{d U = \\left[\\frac{C_{ p}}{ V\\alpha}- p\\right]\\,d V+\\left[\\frac{\\kappa_{ T}}{\\alpha}\\,C_{ V}\\right]\\,d p}$$  \n",
    "<br>\n",
    "\n",
    "\n"
   ]
  },
  {
   "cell_type": "markdown",
   "metadata": {},
   "source": [
    "Hori guztia orkortu dezaket aztertzen ari naizen sistema beste edozein denean, *masa konstanteko sistema orokorraren kasurako*, zeinak *2* askatasun-gradu baino ez dituen edukiko, termikoa eta beste bat, orokorra. Orokorra den askatasun-graduarekin lotutako aldagai termodinamiko intentsiboa eta estentsiboa dira $ Y$ eta $ X$, hurrenez hurren. Beraz, aldagai independenteen sorten bikoteak izango dira: $( T,  X)$, $( T,  Y)$ eta $( X,  Y)$. Horrelako bakoitzaren kasuan honako adierazpen orokor hauek ondorioztatzen dira: \n",
    "\n",
    "$$ \\delta Q = dU -\\delta W $$  \n",
    "\n",
    "$$ \\delta W =  Y\\,d X $$  \n",
    "\n",
    "$$  \\delta Q = dU - Y\\,d X  $$  \n",
    "\n",
    "1. $( T,  X)$ aldagai independenteak:  \n",
    ">  - lehen printzipioaren adierazpen diferentziala edo sistemak trukatu duen beroa: \n",
    ">      <p><p>\n",
    ">    - $$ \\boxed{\\delta Q = C_{ X}\\, d T + \\left[ \\frac{C_{ Y} - C_{ X}}{\\left(\\frac{\\partial  X}{\\partial  T} \\right)_{ Y}}\\right] \\, d X} $$  \n",
    ">        <p><p>\n",
    ">  - barne-energiaren barne-egitura; hots, bi deribatuak:  \n",
    ">      <p><p>\n",
    ">    - $$ \\left( \\frac{\\partial U}{\\partial  T} \\right)_{ X} = C_{ X} $$  \n",
    ">    <p><p>\n",
    ">    - $$ \\left( \\frac{\\partial U}{\\partial  T} \\right)_{ X} = \\frac{C_{ Y} - C_{ X}}{\\left(\\frac{\\partial  X}{\\partial  T} \\right)_{ Y}} +  Y$$  \n",
    ">    <p><p>\n",
    ">    - $$ \\boxed{dU = \\left[ C_{ X} \\right]\\, d T+\\left[\\frac{C_{ Y} - C_{ X}}{\\left(\\frac{\\partial  X}{\\partial  T}\\right)_{ Y}}+ Y \\right]\\,dV }$$\n",
    "\n",
    "2. $( T,  Y)$ aldagai independenteak:  \n",
    ">  - lehen printzipioaren adierazpen diferentziala edo sistemak trukatu duen beroa: \n",
    ">      <p><p>\n",
    ">    - $$ \\boxed{\\delta Q = C_{ Y}\\, d T - \\left[ (C_{ Y} - C_{ X})\\,\\left(\\frac{\\partial  Y}{\\partial  T}\\right)_{ X} \\right] \\, d Y} $$  \n",
    ">        <p><p>\n",
    ">  - barne-energiaren barne-egitura; hots, bi deribatuak:  \n",
    ">      <p><p>\n",
    ">    - $$ \\left( \\frac{\\partial U}{\\partial  T} \\right)_{ Y} = C_{ Y} +  Y\\,\\left( \\frac{\\partial  X}{\\partial  T}\\right)_{ Y}$$  \n",
    ">    <p><p>\n",
    ">    - $$ \\left( \\frac{\\partial U}{\\partial  Y} \\right)_{ T} = \n",
    "-(C_{ Y} - C_{ X})\\,\\left(\\frac{\\partial  Y}{\\partial  T}\\right)_{ X} +  Y\\,\\left(\\frac{\\partial  X}{\\partial  Y} \\right)_{ T}$$  \n",
    ">    <p><p>\n",
    ">    - $$ \\boxed{dU = \\left[ C_{ Y} +  Y\\,\\left( \\frac{\\partial  X}{\\partial  T}\\right)_{ Y} \\right]\\, d T + \n",
    "\\left[ -(C_{ Y} - C_{ X})\\,\\left(\\frac{\\partial  Y}{\\partial  T}\\right)_{ X} +  Y\\,\\left(\\frac{\\partial  X}{\\partial  Y} \\right)_{ T} \\right] \\, d Y}$$\n",
    "\n",
    "3. $( X,  Y)$ aldagai independenteak:  \n",
    ">  - lehen printzipioaren adierazpen diferentziala edo sistemak trukatu duen beroa: \n",
    ">      <p><p>\n",
    ">    - $$ \\boxed{\\delta Q = \\left[ \\frac{C_{ Y}}{\\left(\\frac{\\partial  X}{\\partial  T} \\right)_{ Y}}\\right]\\, d X-\\left[\\left(\\frac{\\partial  T}{\\partial  Y} \\right)_{ X}\\,C_{ X}\\right] \\, d Y} $$  \n",
    ">        <p><p>\n",
    ">  - barne-energiaren barne-egitura; hots, bi deribatuak:  \n",
    ">      <p><p>\n",
    ">    - $$\\left(\\frac{\\partial U}{\\partial X}\\right)_{ Y}=\\left[\\frac{C_{ Y}}{\\left( \\frac{\\partial  X}{\\partial T}\\right)_{ Y}}+ Y\\right]$$  \n",
    ">    <p><p>\n",
    ">    - $$ \\left(\\frac{\\partial U}{\\partial  Y} \\right)_{ X}=-\\left(\\frac{\\partial  T}{\\partial Y}\\right)_{ X}\\,C_{ X}$$  \n",
    ">    <p><p>\n",
    ">    - $$\\boxed{dU = \\left[\\frac{C_{ Y}}{\\left(\\frac{\\partial  X}{\\partial T}\\right)_{ Y}}+  Y\\right]\\,d X-\\left[\\left(\\frac{\\partial T}{\\partial Y}\\right)_{ X}\\,C_{ X}\\right]\\,d Y}$$  \n",
    "<br>\n",
    "\n",
    "\n"
   ]
  },
  {
   "cell_type": "markdown",
   "metadata": {},
   "source": [
    "\n",
    ">Gure esku dago beti, printzipioz, sisteman eragindako prozesua deskribatzeko erabiliko diren aldagai termodinamikoak aukeratzea. Prozesuan aldagaieren batek konstante badirau, aukera onena da berori sartzea erabiliko diren aldagaien sortan, konstante izanik haren aldaketa osoa nulua izango baita; baina bere diferentziala ere bai, eta hauxe da interesantea, ez baitu ekarpenik egingo, eta bere integrala nulua izango baita. Jakina, bilatzen ari garen bukaerako sistemaren oreka-(termodinamikoko)egoeraren *zati* bat dagoeneko ezaguna da: hasieratik konstante zen aldagaia bukaeran ere bai konstantea, hasierako balioan.\n",
    "<br>\n",
    "<br>\n"
   ]
  },
  {
   "cell_type": "markdown",
   "metadata": {},
   "source": [
    ">Honen bestez, lehen printzipioaren azaleko informazioa eta barneko egitura aztertu dugu edozein sistemaren kasuan eta eragiten diogun edozein prozesutan *trukatzen* duen edozer kalkuatu ahal izateko. Dena dela, oraindik ere badago beste adierazpen bat erabilgarri dena kalkulu horiek guztiak hobeto bideratzeko, honako hau:\n",
    ">\n",
    ">$$ C_{p} - C_{V} = - T\\,\\left(\\frac{\\partial V}{\\partial T}\\right)_{p}^{2}\\,\\left(\\frac{\\partial p}{\\partial V}\\right)_{T}$$\n",
    ">\n",
    ">Adierazpen hori ondorioztatzeko bigarren printzipioaren beharra dago, eta aztertutakoan printzipioa ondorioztatuko dut, baina ordura arte erabil daiteke eta erabili behar da.  \n",
    ">\n",
    ">Bere eduki fisikoari dagokionez, honako hau esan daiteke: masa konstanteko edozein sistema hidrostatikoren $\\{C_{p}, C_{V}, \\alpha, \\kappa_{T}\\}$ koefiziente esperimentalak ez dira independente.  \n",
    ">\n",
    ">Jakina, orokortu daiteke eta 2 askatasun-graduko, termikoa eta beste bat $(Y, X)$, edozein sistemaren kasuan honako hau lortzen da:  \n",
    ">\n",
    ">$$ C_{Y} - C_{X} = T\\,\\left(\\frac{\\partial X}{\\partial T}\\right)_{Y}^{2}\\,\\left(\\frac{\\partial Y}{\\partial X}\\right)_{T}$$\n"
   ]
  },
  {
   "cell_type": "markdown",
   "metadata": {},
   "source": []
  },
  {
   "cell_type": "markdown",
   "metadata": {},
   "source": []
  }
 ],
 "metadata": {
  "kernelspec": {
   "display_name": "Python 2",
   "language": "python",
   "name": "python2"
  },
  "language_info": {
   "codemirror_mode": {
    "name": "ipython",
    "version": 2
   },
   "file_extension": ".py",
   "mimetype": "text/x-python",
   "name": "python",
   "nbconvert_exporter": "python",
   "pygments_lexer": "ipython2",
   "version": "2.7.15"
  }
 },
 "nbformat": 4,
 "nbformat_minor": 2
}
